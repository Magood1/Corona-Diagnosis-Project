{
  "cells": [
    {
      "cell_type": "code",
      "execution_count": null,
      "metadata": {
        "id": "05fQVXVG1FNc"
      },
      "outputs": [],
      "source": [
        "import os\n",
        "import cv2\n",
        "import pandas as pd\n",
        "import numpy as np\n",
        "import tensorflow as tf\n",
        "import matplotlib.pyplot as plt\n",
        "from sklearn.metrics import confusion_matrix\n",
        "from tensorflow.keras.models import Sequential\n",
        "from sklearn.model_selection import train_test_split\n",
        "from tensorflow.keras.layers import Conv2D, MaxPooling2D, Flatten, Dense\n"
      ]
    },
    {
      "cell_type": "code",
      "execution_count": null,
      "metadata": {
        "id": "7A4tMxwP1H67"
      },
      "outputs": [],
      "source": [
        "os.environ[\"KAGGLE_USERNAME\"] = \"magdhndi\"\n",
        "os.environ[\"KAGGLE_KEY\"] = \"9b6c8953fb75d807a407f863ae22edc6\""
      ]
    },
    {
      "cell_type": "code",
      "execution_count": null,
      "metadata": {
        "colab": {
          "base_uri": "https://localhost:8080/"
        },
        "id": "gjFPGD4W1I_R",
        "outputId": "57a2f738-9ebd-428e-870c-258da1b94641"
      },
      "outputs": [
        {
          "name": "stdout",
          "output_type": "stream",
          "text": [
            "Warning: Looks like you're using an outdated API Version, please consider updating (server 1.6.17 / client 1.6.14)\n",
            "Dataset URL: https://www.kaggle.com/datasets/meirnizri/covid19-dataset\n",
            "License(s): CC0-1.0\n",
            "Downloading covid19-dataset.zip to /content\n",
            " 86% 4.00M/4.66M [00:00<00:00, 6.10MB/s]\n",
            "100% 4.66M/4.66M [00:00<00:00, 5.04MB/s]\n"
          ]
        }
      ],
      "source": [
        "!kaggle datasets download meirnizri/covid19-dataset"
      ]
    },
    {
      "cell_type": "code",
      "execution_count": null,
      "metadata": {
        "colab": {
          "base_uri": "https://localhost:8080/"
        },
        "id": "5-Ia0GJp1K-l",
        "outputId": "134e96fd-8a71-4d80-967f-a6aaaba450ae"
      },
      "outputs": [
        {
          "name": "stdout",
          "output_type": "stream",
          "text": [
            "Archive:  covid19-dataset.zip\n",
            "  inflating: Covid Data.csv          \n"
          ]
        }
      ],
      "source": [
        "!unzip covid19-dataset"
      ]
    },
    {
      "cell_type": "code",
      "execution_count": null,
      "metadata": {
        "id": "3UPONF4P1O2R"
      },
      "outputs": [],
      "source": [
        "def clean_data(df):\n",
        "    \"\"\"\n",
        "    Clean the tabular data by handling missing values and encoding categorical variables.\n",
        "\n",
        "    Args:\n",
        "        df (pd.DataFrame): Input DataFrame.\n",
        "\n",
        "    Returns:\n",
        "        pd.DataFrame: Cleaned DataFrame.\n",
        "    \"\"\"\n",
        "    # Handle missing values: replace '97' and '99' with NaN\n",
        "    df.replace([97, 98, 99], pd.NA, inplace=True)\n",
        "\n",
        "    # Fill missing values with appropriate strategies\n",
        "    df['AGE'].fillna(df['AGE'].mode()[0], inplace=True)\n",
        "    categorical_columns = ['SEX', 'PATIENT_TYPE', 'PREGNANT', 'DIABETES', 'COPD',\n",
        "                           'ASTHMA', 'INMSUPR', 'HIPERTENSION', 'CARDIOVASCULAR',\n",
        "                           'RENAL_CHRONIC', 'OBESITY', 'TOBACCO',\n",
        "                           'USMER', 'INTUBED', 'ICU']\n",
        "\n",
        "    for column in categorical_columns:\n",
        "        df[column].fillna(df[column].mode()[0], inplace=True)\n",
        "\n",
        "    # Encode categorical variables\n",
        "    df = pd.get_dummies(df, columns=categorical_columns, drop_first=True)\n",
        "\n",
        "    return df\n"
      ]
    },
    {
      "cell_type": "code",
      "execution_count": null,
      "metadata": {
        "id": "_Z4QVyyB1SoA"
      },
      "outputs": [],
      "source": [
        "def feature_engineering(df):\n",
        "    \"\"\"\n",
        "    Engineer features from the cleaned data.\n",
        "\n",
        "    Args:\n",
        "        df (pd.DataFrame): Cleaned DataFrame.\n",
        "\n",
        "    Returns:\n",
        "        pd.DataFrame: DataFrame with engineered features.\n",
        "    \"\"\"\n",
        "    # Create a new feature 'pneumonia' based on conditions\n",
        "    df['PNEUMONIA'] = (df['PNEUMONIA'] == 1)\n",
        "    df['PNEUMONIA'] = df['PNEUMONIA'].astype(int)\n",
        "\n",
        "    return df\n"
      ]
    },
    {
      "cell_type": "code",
      "execution_count": null,
      "metadata": {
        "id": "CCrHx9C21T7L"
      },
      "outputs": [],
      "source": [
        "from sklearn.preprocessing import StandardScaler\n",
        "\n",
        "def normalize_data(df):\n",
        "    \"\"\"\n",
        "    Normalize numerical features in the DataFrame.\n",
        "\n",
        "    Args:\n",
        "        df (pd.DataFrame): DataFrame with engineered features.\n",
        "\n",
        "    Returns:\n",
        "        pd.DataFrame: DataFrame with normalized numerical features.\n",
        "    \"\"\"\n",
        "    numerical_columns = ['AGE']\n",
        "\n",
        "    scaler = StandardScaler()\n",
        "    df[numerical_columns] = scaler.fit_transform(df[numerical_columns])\n",
        "\n",
        "    return df\n"
      ]
    },
    {
      "cell_type": "code",
      "execution_count": null,
      "metadata": {
        "id": "eybsmraQFjcp"
      },
      "outputs": [],
      "source": [
        "# prompt: in preprocessed_data['CLASIFFICATION_FINAL'] convert values 1,2 and 3 to 1 and convert 4,5,6,7 to 0\n",
        "\n",
        "def convert_labels(data):\n",
        "  \"\"\"\n",
        "  Converts labels in the 'CLASIFFICATION_FINAL' column to 1 for values 1, 2, and 3, and 0 for values 4, 5, 6, and 7.\n",
        "\n",
        "  Args:\n",
        "    data (pd.DataFrame): DataFrame containing the data.\n",
        "\n",
        "  Returns:\n",
        "    pd.DataFrame: DataFrame with converted labels.\n",
        "  \"\"\"\n",
        "\n",
        "  data['CLASIFFICATION_FINAL'] = data['CLASIFFICATION_FINAL'].apply(lambda x: 1 if x in [1, 2, 3] else 0)\n",
        "\n",
        "  # Drop columns which not needed for classification\n",
        "  data.drop(['DATE_DIED'], axis=1, inplace=True)\n",
        "  data.drop(['MEDICAL_UNIT'], axis=1, inplace=True)\n",
        "  data.drop(['OTHER_DISEASE'], axis=1, inplace=True)\n",
        "\n",
        "  return data\n"
      ]
    },
    {
      "cell_type": "code",
      "execution_count": null,
      "metadata": {
        "id": "xb8M9XJb1W7s"
      },
      "outputs": [],
      "source": [
        "def preprocess_data(file_path):\n",
        "    \"\"\"\n",
        "    Load, clean, and preprocess the tabular data.\n",
        "\n",
        "    Args:\n",
        "        file_path (str): Path to the CSV file.\n",
        "\n",
        "    Returns:\n",
        "        pd.DataFrame: Preprocessed DataFrame ready for model training.\n",
        "    \"\"\"\n",
        "    df = pd.read_csv(file_path)\n",
        "    df = convert_labels(df)\n",
        "    df = clean_data(df)\n",
        "    df = feature_engineering(df)\n",
        "    df = normalize_data(df)\n",
        "\n",
        "    return df\n"
      ]
    },
    {
      "cell_type": "code",
      "execution_count": null,
      "metadata": {
        "id": "PdvOhtVZ1NMO"
      },
      "outputs": [],
      "source": [
        "df = pd.read_csv(file_path)"
      ]
    },
    {
      "cell_type": "code",
      "execution_count": null,
      "metadata": {
        "colab": {
          "base_uri": "https://localhost:8080/",
          "height": 255
        },
        "id": "CEgtiQi71UC2",
        "outputId": "4a6ee735-0baa-4e7a-dc83-686762f3c24a"
      },
      "outputs": [
        {
          "data": {
            "application/vnd.google.colaboratory.intrinsic+json": {
              "type": "dataframe",
              "variable_name": "df"
            },
            "text/html": [
              "\n",
              "  <div id=\"df-b46149a5-ef45-40aa-847a-a08934b24824\" class=\"colab-df-container\">\n",
              "    <div>\n",
              "<style scoped>\n",
              "    .dataframe tbody tr th:only-of-type {\n",
              "        vertical-align: middle;\n",
              "    }\n",
              "\n",
              "    .dataframe tbody tr th {\n",
              "        vertical-align: top;\n",
              "    }\n",
              "\n",
              "    .dataframe thead th {\n",
              "        text-align: right;\n",
              "    }\n",
              "</style>\n",
              "<table border=\"1\" class=\"dataframe\">\n",
              "  <thead>\n",
              "    <tr style=\"text-align: right;\">\n",
              "      <th></th>\n",
              "      <th>USMER</th>\n",
              "      <th>MEDICAL_UNIT</th>\n",
              "      <th>SEX</th>\n",
              "      <th>PATIENT_TYPE</th>\n",
              "      <th>DATE_DIED</th>\n",
              "      <th>INTUBED</th>\n",
              "      <th>PNEUMONIA</th>\n",
              "      <th>AGE</th>\n",
              "      <th>PREGNANT</th>\n",
              "      <th>DIABETES</th>\n",
              "      <th>...</th>\n",
              "      <th>ASTHMA</th>\n",
              "      <th>INMSUPR</th>\n",
              "      <th>HIPERTENSION</th>\n",
              "      <th>OTHER_DISEASE</th>\n",
              "      <th>CARDIOVASCULAR</th>\n",
              "      <th>OBESITY</th>\n",
              "      <th>RENAL_CHRONIC</th>\n",
              "      <th>TOBACCO</th>\n",
              "      <th>CLASIFFICATION_FINAL</th>\n",
              "      <th>ICU</th>\n",
              "    </tr>\n",
              "  </thead>\n",
              "  <tbody>\n",
              "    <tr>\n",
              "      <th>0</th>\n",
              "      <td>2</td>\n",
              "      <td>1</td>\n",
              "      <td>1</td>\n",
              "      <td>1</td>\n",
              "      <td>03/05/2020</td>\n",
              "      <td>97</td>\n",
              "      <td>1</td>\n",
              "      <td>65</td>\n",
              "      <td>2</td>\n",
              "      <td>2</td>\n",
              "      <td>...</td>\n",
              "      <td>2</td>\n",
              "      <td>2</td>\n",
              "      <td>1</td>\n",
              "      <td>2</td>\n",
              "      <td>2</td>\n",
              "      <td>2</td>\n",
              "      <td>2</td>\n",
              "      <td>2</td>\n",
              "      <td>3</td>\n",
              "      <td>97</td>\n",
              "    </tr>\n",
              "    <tr>\n",
              "      <th>1</th>\n",
              "      <td>2</td>\n",
              "      <td>1</td>\n",
              "      <td>2</td>\n",
              "      <td>1</td>\n",
              "      <td>03/06/2020</td>\n",
              "      <td>97</td>\n",
              "      <td>1</td>\n",
              "      <td>72</td>\n",
              "      <td>97</td>\n",
              "      <td>2</td>\n",
              "      <td>...</td>\n",
              "      <td>2</td>\n",
              "      <td>2</td>\n",
              "      <td>1</td>\n",
              "      <td>2</td>\n",
              "      <td>2</td>\n",
              "      <td>1</td>\n",
              "      <td>1</td>\n",
              "      <td>2</td>\n",
              "      <td>5</td>\n",
              "      <td>97</td>\n",
              "    </tr>\n",
              "    <tr>\n",
              "      <th>2</th>\n",
              "      <td>2</td>\n",
              "      <td>1</td>\n",
              "      <td>2</td>\n",
              "      <td>2</td>\n",
              "      <td>09/06/2020</td>\n",
              "      <td>1</td>\n",
              "      <td>2</td>\n",
              "      <td>55</td>\n",
              "      <td>97</td>\n",
              "      <td>1</td>\n",
              "      <td>...</td>\n",
              "      <td>2</td>\n",
              "      <td>2</td>\n",
              "      <td>2</td>\n",
              "      <td>2</td>\n",
              "      <td>2</td>\n",
              "      <td>2</td>\n",
              "      <td>2</td>\n",
              "      <td>2</td>\n",
              "      <td>3</td>\n",
              "      <td>2</td>\n",
              "    </tr>\n",
              "    <tr>\n",
              "      <th>3</th>\n",
              "      <td>2</td>\n",
              "      <td>1</td>\n",
              "      <td>1</td>\n",
              "      <td>1</td>\n",
              "      <td>12/06/2020</td>\n",
              "      <td>97</td>\n",
              "      <td>2</td>\n",
              "      <td>53</td>\n",
              "      <td>2</td>\n",
              "      <td>2</td>\n",
              "      <td>...</td>\n",
              "      <td>2</td>\n",
              "      <td>2</td>\n",
              "      <td>2</td>\n",
              "      <td>2</td>\n",
              "      <td>2</td>\n",
              "      <td>2</td>\n",
              "      <td>2</td>\n",
              "      <td>2</td>\n",
              "      <td>7</td>\n",
              "      <td>97</td>\n",
              "    </tr>\n",
              "    <tr>\n",
              "      <th>4</th>\n",
              "      <td>2</td>\n",
              "      <td>1</td>\n",
              "      <td>2</td>\n",
              "      <td>1</td>\n",
              "      <td>21/06/2020</td>\n",
              "      <td>97</td>\n",
              "      <td>2</td>\n",
              "      <td>68</td>\n",
              "      <td>97</td>\n",
              "      <td>1</td>\n",
              "      <td>...</td>\n",
              "      <td>2</td>\n",
              "      <td>2</td>\n",
              "      <td>1</td>\n",
              "      <td>2</td>\n",
              "      <td>2</td>\n",
              "      <td>2</td>\n",
              "      <td>2</td>\n",
              "      <td>2</td>\n",
              "      <td>3</td>\n",
              "      <td>97</td>\n",
              "    </tr>\n",
              "  </tbody>\n",
              "</table>\n",
              "<p>5 rows × 21 columns</p>\n",
              "</div>\n",
              "    <div class=\"colab-df-buttons\">\n",
              "\n",
              "  <div class=\"colab-df-container\">\n",
              "    <button class=\"colab-df-convert\" onclick=\"convertToInteractive('df-b46149a5-ef45-40aa-847a-a08934b24824')\"\n",
              "            title=\"Convert this dataframe to an interactive table.\"\n",
              "            style=\"display:none;\">\n",
              "\n",
              "  <svg xmlns=\"http://www.w3.org/2000/svg\" height=\"24px\" viewBox=\"0 -960 960 960\">\n",
              "    <path d=\"M120-120v-720h720v720H120Zm60-500h600v-160H180v160Zm220 220h160v-160H400v160Zm0 220h160v-160H400v160ZM180-400h160v-160H180v160Zm440 0h160v-160H620v160ZM180-180h160v-160H180v160Zm440 0h160v-160H620v160Z\"/>\n",
              "  </svg>\n",
              "    </button>\n",
              "\n",
              "  <style>\n",
              "    .colab-df-container {\n",
              "      display:flex;\n",
              "      gap: 12px;\n",
              "    }\n",
              "\n",
              "    .colab-df-convert {\n",
              "      background-color: #E8F0FE;\n",
              "      border: none;\n",
              "      border-radius: 50%;\n",
              "      cursor: pointer;\n",
              "      display: none;\n",
              "      fill: #1967D2;\n",
              "      height: 32px;\n",
              "      padding: 0 0 0 0;\n",
              "      width: 32px;\n",
              "    }\n",
              "\n",
              "    .colab-df-convert:hover {\n",
              "      background-color: #E2EBFA;\n",
              "      box-shadow: 0px 1px 2px rgba(60, 64, 67, 0.3), 0px 1px 3px 1px rgba(60, 64, 67, 0.15);\n",
              "      fill: #174EA6;\n",
              "    }\n",
              "\n",
              "    .colab-df-buttons div {\n",
              "      margin-bottom: 4px;\n",
              "    }\n",
              "\n",
              "    [theme=dark] .colab-df-convert {\n",
              "      background-color: #3B4455;\n",
              "      fill: #D2E3FC;\n",
              "    }\n",
              "\n",
              "    [theme=dark] .colab-df-convert:hover {\n",
              "      background-color: #434B5C;\n",
              "      box-shadow: 0px 1px 3px 1px rgba(0, 0, 0, 0.15);\n",
              "      filter: drop-shadow(0px 1px 2px rgba(0, 0, 0, 0.3));\n",
              "      fill: #FFFFFF;\n",
              "    }\n",
              "  </style>\n",
              "\n",
              "    <script>\n",
              "      const buttonEl =\n",
              "        document.querySelector('#df-b46149a5-ef45-40aa-847a-a08934b24824 button.colab-df-convert');\n",
              "      buttonEl.style.display =\n",
              "        google.colab.kernel.accessAllowed ? 'block' : 'none';\n",
              "\n",
              "      async function convertToInteractive(key) {\n",
              "        const element = document.querySelector('#df-b46149a5-ef45-40aa-847a-a08934b24824');\n",
              "        const dataTable =\n",
              "          await google.colab.kernel.invokeFunction('convertToInteractive',\n",
              "                                                    [key], {});\n",
              "        if (!dataTable) return;\n",
              "\n",
              "        const docLinkHtml = 'Like what you see? Visit the ' +\n",
              "          '<a target=\"_blank\" href=https://colab.research.google.com/notebooks/data_table.ipynb>data table notebook</a>'\n",
              "          + ' to learn more about interactive tables.';\n",
              "        element.innerHTML = '';\n",
              "        dataTable['output_type'] = 'display_data';\n",
              "        await google.colab.output.renderOutput(dataTable, element);\n",
              "        const docLink = document.createElement('div');\n",
              "        docLink.innerHTML = docLinkHtml;\n",
              "        element.appendChild(docLink);\n",
              "      }\n",
              "    </script>\n",
              "  </div>\n",
              "\n",
              "\n",
              "<div id=\"df-8becb715-961c-4a6a-af89-cd2d7a152c87\">\n",
              "  <button class=\"colab-df-quickchart\" onclick=\"quickchart('df-8becb715-961c-4a6a-af89-cd2d7a152c87')\"\n",
              "            title=\"Suggest charts\"\n",
              "            style=\"display:none;\">\n",
              "\n",
              "<svg xmlns=\"http://www.w3.org/2000/svg\" height=\"24px\"viewBox=\"0 0 24 24\"\n",
              "     width=\"24px\">\n",
              "    <g>\n",
              "        <path d=\"M19 3H5c-1.1 0-2 .9-2 2v14c0 1.1.9 2 2 2h14c1.1 0 2-.9 2-2V5c0-1.1-.9-2-2-2zM9 17H7v-7h2v7zm4 0h-2V7h2v10zm4 0h-2v-4h2v4z\"/>\n",
              "    </g>\n",
              "</svg>\n",
              "  </button>\n",
              "\n",
              "<style>\n",
              "  .colab-df-quickchart {\n",
              "      --bg-color: #E8F0FE;\n",
              "      --fill-color: #1967D2;\n",
              "      --hover-bg-color: #E2EBFA;\n",
              "      --hover-fill-color: #174EA6;\n",
              "      --disabled-fill-color: #AAA;\n",
              "      --disabled-bg-color: #DDD;\n",
              "  }\n",
              "\n",
              "  [theme=dark] .colab-df-quickchart {\n",
              "      --bg-color: #3B4455;\n",
              "      --fill-color: #D2E3FC;\n",
              "      --hover-bg-color: #434B5C;\n",
              "      --hover-fill-color: #FFFFFF;\n",
              "      --disabled-bg-color: #3B4455;\n",
              "      --disabled-fill-color: #666;\n",
              "  }\n",
              "\n",
              "  .colab-df-quickchart {\n",
              "    background-color: var(--bg-color);\n",
              "    border: none;\n",
              "    border-radius: 50%;\n",
              "    cursor: pointer;\n",
              "    display: none;\n",
              "    fill: var(--fill-color);\n",
              "    height: 32px;\n",
              "    padding: 0;\n",
              "    width: 32px;\n",
              "  }\n",
              "\n",
              "  .colab-df-quickchart:hover {\n",
              "    background-color: var(--hover-bg-color);\n",
              "    box-shadow: 0 1px 2px rgba(60, 64, 67, 0.3), 0 1px 3px 1px rgba(60, 64, 67, 0.15);\n",
              "    fill: var(--button-hover-fill-color);\n",
              "  }\n",
              "\n",
              "  .colab-df-quickchart-complete:disabled,\n",
              "  .colab-df-quickchart-complete:disabled:hover {\n",
              "    background-color: var(--disabled-bg-color);\n",
              "    fill: var(--disabled-fill-color);\n",
              "    box-shadow: none;\n",
              "  }\n",
              "\n",
              "  .colab-df-spinner {\n",
              "    border: 2px solid var(--fill-color);\n",
              "    border-color: transparent;\n",
              "    border-bottom-color: var(--fill-color);\n",
              "    animation:\n",
              "      spin 1s steps(1) infinite;\n",
              "  }\n",
              "\n",
              "  @keyframes spin {\n",
              "    0% {\n",
              "      border-color: transparent;\n",
              "      border-bottom-color: var(--fill-color);\n",
              "      border-left-color: var(--fill-color);\n",
              "    }\n",
              "    20% {\n",
              "      border-color: transparent;\n",
              "      border-left-color: var(--fill-color);\n",
              "      border-top-color: var(--fill-color);\n",
              "    }\n",
              "    30% {\n",
              "      border-color: transparent;\n",
              "      border-left-color: var(--fill-color);\n",
              "      border-top-color: var(--fill-color);\n",
              "      border-right-color: var(--fill-color);\n",
              "    }\n",
              "    40% {\n",
              "      border-color: transparent;\n",
              "      border-right-color: var(--fill-color);\n",
              "      border-top-color: var(--fill-color);\n",
              "    }\n",
              "    60% {\n",
              "      border-color: transparent;\n",
              "      border-right-color: var(--fill-color);\n",
              "    }\n",
              "    80% {\n",
              "      border-color: transparent;\n",
              "      border-right-color: var(--fill-color);\n",
              "      border-bottom-color: var(--fill-color);\n",
              "    }\n",
              "    90% {\n",
              "      border-color: transparent;\n",
              "      border-bottom-color: var(--fill-color);\n",
              "    }\n",
              "  }\n",
              "</style>\n",
              "\n",
              "  <script>\n",
              "    async function quickchart(key) {\n",
              "      const quickchartButtonEl =\n",
              "        document.querySelector('#' + key + ' button');\n",
              "      quickchartButtonEl.disabled = true;  // To prevent multiple clicks.\n",
              "      quickchartButtonEl.classList.add('colab-df-spinner');\n",
              "      try {\n",
              "        const charts = await google.colab.kernel.invokeFunction(\n",
              "            'suggestCharts', [key], {});\n",
              "      } catch (error) {\n",
              "        console.error('Error during call to suggestCharts:', error);\n",
              "      }\n",
              "      quickchartButtonEl.classList.remove('colab-df-spinner');\n",
              "      quickchartButtonEl.classList.add('colab-df-quickchart-complete');\n",
              "    }\n",
              "    (() => {\n",
              "      let quickchartButtonEl =\n",
              "        document.querySelector('#df-8becb715-961c-4a6a-af89-cd2d7a152c87 button');\n",
              "      quickchartButtonEl.style.display =\n",
              "        google.colab.kernel.accessAllowed ? 'block' : 'none';\n",
              "    })();\n",
              "  </script>\n",
              "</div>\n",
              "    </div>\n",
              "  </div>\n"
            ],
            "text/plain": [
              "   USMER  MEDICAL_UNIT  SEX  PATIENT_TYPE   DATE_DIED  INTUBED  PNEUMONIA  \\\n",
              "0      2             1    1             1  03/05/2020       97          1   \n",
              "1      2             1    2             1  03/06/2020       97          1   \n",
              "2      2             1    2             2  09/06/2020        1          2   \n",
              "3      2             1    1             1  12/06/2020       97          2   \n",
              "4      2             1    2             1  21/06/2020       97          2   \n",
              "\n",
              "   AGE  PREGNANT  DIABETES  ...  ASTHMA  INMSUPR  HIPERTENSION  OTHER_DISEASE  \\\n",
              "0   65         2         2  ...       2        2             1              2   \n",
              "1   72        97         2  ...       2        2             1              2   \n",
              "2   55        97         1  ...       2        2             2              2   \n",
              "3   53         2         2  ...       2        2             2              2   \n",
              "4   68        97         1  ...       2        2             1              2   \n",
              "\n",
              "   CARDIOVASCULAR  OBESITY  RENAL_CHRONIC  TOBACCO  CLASIFFICATION_FINAL  ICU  \n",
              "0               2        2              2        2                     3   97  \n",
              "1               2        1              1        2                     5   97  \n",
              "2               2        2              2        2                     3    2  \n",
              "3               2        2              2        2                     7   97  \n",
              "4               2        2              2        2                     3   97  \n",
              "\n",
              "[5 rows x 21 columns]"
            ]
          },
          "execution_count": 16,
          "metadata": {},
          "output_type": "execute_result"
        }
      ],
      "source": [
        "df.head()"
      ]
    },
    {
      "cell_type": "code",
      "execution_count": null,
      "metadata": {
        "id": "8VnhBfLE1c6W"
      },
      "outputs": [],
      "source": [
        "from sklearn.model_selection import train_test_split\n",
        "\n",
        "def partition_data(X, y, test_size=0.15, val_size=0.15, random_state=42):\n",
        "    \"\"\"\n",
        "    Partition data into training, validation, and test sets.\n",
        "\n",
        "    Args:\n",
        "        X (pd.DataFrame): Feature DataFrame.\n",
        "        y (pd.Series): Target labels.\n",
        "        test_size (float): Proportion of the data to be used for testing.\n",
        "        val_size (float): Proportion of the data to be used for validation.\n",
        "        random_state (int): Random seed for reproducibility.\n",
        "\n",
        "    Returns:\n",
        "        tuple: Split data (X_train, X_val, X_test, y_train, y_val, y_test)\n",
        "    \"\"\"\n",
        "    X_train, X_temp, y_train, y_temp = train_test_split(X, y, test_size=(test_size + val_size), random_state=random_state)\n",
        "    val_ratio = val_size / (test_size + val_size)\n",
        "    X_val, X_test, y_val, y_test = train_test_split(X_temp, y_temp, test_size=val_ratio, random_state=random_state)\n",
        "\n",
        "    return X_train, X_val, X_test, y_train, y_val, y_test\n"
      ]
    },
    {
      "cell_type": "code",
      "execution_count": null,
      "metadata": {
        "id": "2ZH6bm562XwQ"
      },
      "outputs": [],
      "source": [
        "from imblearn.over_sampling import SMOTE\n",
        "\n",
        "def balance_classes(X_train, y_train):\n",
        "    \"\"\"\n",
        "    Balance the classes in the training set using SMOTE.\n",
        "\n",
        "    Args:\n",
        "        X_train (pd.DataFrame): Training feature DataFrame.\n",
        "        y_train (pd.Series): Training target labels.\n",
        "\n",
        "    Returns:\n",
        "        tuple: Balanced training data (X_train_balanced, y_train_balanced)\n",
        "    \"\"\"\n",
        "    # Initialize SMOTE with a random state\n",
        "    smote = SMOTE(random_state=42)\n",
        "\n",
        "    # Fit and transform the data\n",
        "    X_train_balanced, y_train_balanced = smote.fit_resample(X_train, y_train)\n",
        "\n",
        "    return X_train_balanced, y_train_balanced\n"
      ]
    },
    {
      "cell_type": "markdown",
      "metadata": {
        "id": "QoM7JvvR-wfR"
      },
      "source": [
        "Define a function to randomly replace a percentage of values ​​in a column"
      ]
    },
    {
      "cell_type": "code",
      "execution_count": null,
      "metadata": {
        "id": "0xeMfM2t2YxT"
      },
      "outputs": [],
      "source": [
        "def random_replace(df, column, original_value, new_value, percentage):\n",
        "    \"\"\"\n",
        "    Randomly replace a percentage of instances of a value in a DataFrame column with a new value.\n",
        "\n",
        "    Args:\n",
        "        df (pd.DataFrame): The DataFrame containing the data.\n",
        "        column (str): The column in which to replace values.\n",
        "        original_value (any): The original value to be replaced.\n",
        "        new_value (any): The new value to replace the original value with.\n",
        "        percentage (float): The percentage of original values to replace.\n",
        "\n",
        "    Returns:\n",
        "        None\n",
        "    \"\"\"\n",
        "    # Check if the column exists in the DataFrame\n",
        "    if column not in df.columns:\n",
        "        raise ValueError(f\"Column {column} does not exist in the DataFrame.\")\n",
        "\n",
        "    # Count the total occurrences of the original value\n",
        "    total_values = df[column].value_counts().get(original_value, 0)\n",
        "\n",
        "    # Calculate the number of values to replace\n",
        "    n_replace = int(total_values * (percentage / 100))\n",
        "\n",
        "    # Sample the indices to replace\n",
        "    if n_replace > 0:\n",
        "        replace_indices = df[df[column] == original_value].sample(n=n_replace, random_state=42).index\n",
        "        df.loc[replace_indices, column] = new_value\n",
        "    else:\n",
        "        print(f\"No values to replace for {original_value} in column {column}.\")\n"
      ]
    },
    {
      "cell_type": "markdown",
      "metadata": {
        "id": "7_v1JUOe-yOy"
      },
      "source": [
        "Get Data From Database"
      ]
    },
    {
      "cell_type": "code",
      "execution_count": null,
      "metadata": {
        "id": "GJ_Bal6YH-pV"
      },
      "outputs": [],
      "source": [
        "file_path = '/content/Covid Data.csv'\n"
      ]
    },
    {
      "cell_type": "code",
      "execution_count": null,
      "metadata": {
        "id": "B3mWjl7o2f_k"
      },
      "outputs": [],
      "source": [
        "preprocessed_data = preprocess_data(file_path)\n"
      ]
    },
    {
      "cell_type": "markdown",
      "metadata": {
        "id": "kRqiPmLEwEQk"
      },
      "source": [
        "new"
      ]
    },
    {
      "cell_type": "code",
      "execution_count": null,
      "metadata": {
        "id": "Z7GGgfPZ1l7G"
      },
      "outputs": [],
      "source": [
        "df = pd.read_csv(file_path)\n"
      ]
    },
    {
      "cell_type": "code",
      "execution_count": null,
      "metadata": {
        "id": "E6Izgzun1nvW"
      },
      "outputs": [],
      "source": [
        "df = convert_labels(df)\n"
      ]
    },
    {
      "cell_type": "code",
      "execution_count": null,
      "metadata": {
        "id": "_KRZ2wIJ1_Vj"
      },
      "outputs": [],
      "source": [
        "df = clean_data(df)\n"
      ]
    },
    {
      "cell_type": "code",
      "execution_count": null,
      "metadata": {
        "colab": {
          "base_uri": "https://localhost:8080/"
        },
        "id": "H1B9MF53v-Ha",
        "outputId": "e61954fd-ad0c-4b96-97ca-00a3bb4682de"
      },
      "outputs": [
        {
          "data": {
            "text/plain": [
              "(1048575, 18)"
            ]
          },
          "execution_count": 21,
          "metadata": {},
          "output_type": "execute_result"
        }
      ],
      "source": [
        "\n",
        "preprocessed_data.shape"
      ]
    },
    {
      "cell_type": "code",
      "execution_count": null,
      "metadata": {
        "id": "k9SEwqoWwFOp"
      },
      "outputs": [],
      "source": [
        "sample = df.iloc[0]"
      ]
    },
    {
      "cell_type": "code",
      "execution_count": null,
      "metadata": {
        "colab": {
          "base_uri": "https://localhost:8080/"
        },
        "id": "QwnPEe1jwFY7",
        "outputId": "92db4a7e-5ba6-4e45-f1ee-b20c85676b14"
      },
      "outputs": [
        {
          "data": {
            "text/plain": [
              "(18,)"
            ]
          },
          "execution_count": 23,
          "metadata": {},
          "output_type": "execute_result"
        }
      ],
      "source": [
        "sample.shape"
      ]
    },
    {
      "cell_type": "code",
      "execution_count": null,
      "metadata": {
        "id": "DLzj2eaZ_LxM"
      },
      "outputs": [],
      "source": [
        "d1 = sample.to_dict()\n",
        "for k,v in d1.items():\n",
        "  d1[k] = [v,]"
      ]
    },
    {
      "cell_type": "code",
      "execution_count": null,
      "metadata": {
        "colab": {
          "base_uri": "https://localhost:8080/"
        },
        "id": "i27fiuQHHf-U",
        "outputId": "240ab94d-2351-4bbd-ac12-b67f10bb80ac"
      },
      "outputs": [
        {
          "name": "stdout",
          "output_type": "stream",
          "text": [
            "{'PNEUMONIA': [1], 'AGE': [65], 'CLASIFFICATION_FINAL': [1], 'SEX_2': [False], 'PATIENT_TYPE_2': [False], 'PREGNANT_2': [True], 'DIABETES_2': [True], 'COPD_2': [True], 'ASTHMA_2': [True], 'INMSUPR_2': [True], 'HIPERTENSION_2': [False], 'CARDIOVASCULAR_2': [True], 'RENAL_CHRONIC_2': [True], 'OBESITY_2': [True], 'TOBACCO_2': [True], 'USMER_2': [True], 'INTUBED_2': [True], 'ICU_2': [True]}\n"
          ]
        }
      ],
      "source": [
        "print(d1)"
      ]
    },
    {
      "cell_type": "code",
      "execution_count": null,
      "metadata": {
        "id": "LpNuTSKmF9RG"
      },
      "outputs": [],
      "source": [
        "magd_df = pd.DataFrame(d1)\n",
        "#magd_df[0] = pd.Series(d1)\n"
      ]
    },
    {
      "cell_type": "code",
      "execution_count": null,
      "metadata": {
        "id": "YKvsliEGHBgT"
      },
      "outputs": [],
      "source": [
        "magd_sample = magd_df.iloc[0]"
      ]
    },
    {
      "cell_type": "code",
      "execution_count": null,
      "metadata": {
        "colab": {
          "base_uri": "https://localhost:8080/"
        },
        "id": "XZVEMDGoHJLL",
        "outputId": "509c522e-e9d1-4a59-8d11-b22b7b9e156e"
      },
      "outputs": [
        {
          "data": {
            "text/plain": [
              "(18,)"
            ]
          },
          "execution_count": 39,
          "metadata": {},
          "output_type": "execute_result"
        }
      ],
      "source": [
        "magd_sample.shape"
      ]
    },
    {
      "cell_type": "code",
      "execution_count": null,
      "metadata": {
        "colab": {
          "base_uri": "https://localhost:8080/"
        },
        "id": "35my4o6tIInS",
        "outputId": "480f0b2b-17e7-4758-b35d-d84f76ee9da6"
      },
      "outputs": [
        {
          "name": "stdout",
          "output_type": "stream",
          "text": [
            "<class 'pandas.core.series.Series'>\n",
            "PNEUMONIA                   1\n",
            "AGE                        65\n",
            "CLASIFFICATION_FINAL        1\n",
            "SEX_2                   False\n",
            "PATIENT_TYPE_2          False\n",
            "PREGNANT_2               True\n",
            "DIABETES_2               True\n",
            "COPD_2                   True\n",
            "ASTHMA_2                 True\n",
            "INMSUPR_2                True\n",
            "HIPERTENSION_2          False\n",
            "CARDIOVASCULAR_2         True\n",
            "RENAL_CHRONIC_2          True\n",
            "OBESITY_2                True\n",
            "TOBACCO_2                True\n",
            "USMER_2                  True\n",
            "INTUBED_2                True\n",
            "ICU_2                    True\n",
            "Name: 0, dtype: object\n"
          ]
        }
      ],
      "source": [
        "print(type(magd_sample))\n",
        "print(magd_sample)"
      ]
    },
    {
      "cell_type": "code",
      "execution_count": null,
      "metadata": {
        "colab": {
          "base_uri": "https://localhost:8080/"
        },
        "id": "BVEN56cJwL9I",
        "outputId": "f66a216b-04bc-4ae8-b667-02c9bfe5f67f"
      },
      "outputs": [
        {
          "name": "stdout",
          "output_type": "stream",
          "text": [
            "<class 'pandas.core.series.Series'>\n",
            "PNEUMONIA                   1\n",
            "AGE                        65\n",
            "CLASIFFICATION_FINAL        1\n",
            "SEX_2                   False\n",
            "PATIENT_TYPE_2          False\n",
            "PREGNANT_2               True\n",
            "DIABETES_2               True\n",
            "COPD_2                   True\n",
            "ASTHMA_2                 True\n",
            "INMSUPR_2                True\n",
            "HIPERTENSION_2          False\n",
            "CARDIOVASCULAR_2         True\n",
            "RENAL_CHRONIC_2          True\n",
            "OBESITY_2                True\n",
            "TOBACCO_2                True\n",
            "USMER_2                  True\n",
            "INTUBED_2                True\n",
            "ICU_2                    True\n",
            "Name: 0, dtype: object\n"
          ]
        }
      ],
      "source": [
        "print(type(sample))\n",
        "print(sample)"
      ]
    },
    {
      "cell_type": "markdown",
      "metadata": {
        "id": "eP4yEmIMwCNl"
      },
      "source": [
        "old"
      ]
    },
    {
      "cell_type": "code",
      "execution_count": null,
      "metadata": {
        "id": "SNhFFxzlwBk3"
      },
      "outputs": [],
      "source": []
    },
    {
      "cell_type": "code",
      "execution_count": null,
      "metadata": {
        "colab": {
          "base_uri": "https://localhost:8080/"
        },
        "id": "UQ1L3VXCh4HX",
        "outputId": "c300f896-bb58-40f7-8087-88c605ba8374"
      },
      "outputs": [
        {
          "data": {
            "text/plain": [
              "(1048575, 18)"
            ]
          },
          "execution_count": 13,
          "metadata": {},
          "output_type": "execute_result"
        }
      ],
      "source": [
        "preprocessed_data.shape"
      ]
    },
    {
      "cell_type": "code",
      "execution_count": null,
      "metadata": {
        "id": "WYAMtQgToYfd"
      },
      "outputs": [],
      "source": [
        "sample = preprocessed_data.iloc[0]"
      ]
    },
    {
      "cell_type": "code",
      "execution_count": null,
      "metadata": {
        "colab": {
          "base_uri": "https://localhost:8080/"
        },
        "id": "zMllchzt7mun",
        "outputId": "8b847c6a-89f9-4f4a-8fa1-cb8edc729fe6"
      },
      "outputs": [
        {
          "data": {
            "text/plain": [
              "(18,)"
            ]
          },
          "execution_count": 15,
          "metadata": {},
          "output_type": "execute_result"
        }
      ],
      "source": [
        "sample.shape"
      ]
    },
    {
      "cell_type": "code",
      "execution_count": null,
      "metadata": {
        "colab": {
          "base_uri": "https://localhost:8080/"
        },
        "id": "ig7GDIyaoeCx",
        "outputId": "eba7da63-dd91-40af-ee6d-13b57d35bdd6"
      },
      "outputs": [
        {
          "data": {
            "text/plain": [
              "PNEUMONIA                      1\n",
              "AGE                     1.376234\n",
              "CLASIFFICATION_FINAL           1\n",
              "SEX_2                      False\n",
              "PATIENT_TYPE_2             False\n",
              "PREGNANT_2                  True\n",
              "DIABETES_2                  True\n",
              "COPD_2                      True\n",
              "ASTHMA_2                    True\n",
              "INMSUPR_2                   True\n",
              "HIPERTENSION_2             False\n",
              "CARDIOVASCULAR_2            True\n",
              "RENAL_CHRONIC_2             True\n",
              "OBESITY_2                   True\n",
              "TOBACCO_2                   True\n",
              "USMER_2                     True\n",
              "INTUBED_2                   True\n",
              "ICU_2                       True\n",
              "Name: 0, dtype: object"
            ]
          },
          "execution_count": 16,
          "metadata": {},
          "output_type": "execute_result"
        }
      ],
      "source": [
        "sample"
      ]
    },
    {
      "cell_type": "markdown",
      "metadata": {
        "id": "6W6WJvYb_AnU"
      },
      "source": [
        "Split the data into features and labels"
      ]
    },
    {
      "cell_type": "code",
      "execution_count": null,
      "metadata": {
        "colab": {
          "base_uri": "https://localhost:8080/"
        },
        "id": "F2en5YypCy_X",
        "outputId": "ca62a756-17d1-4b8a-9884-8e8befd14249"
      },
      "outputs": [
        {
          "data": {
            "text/plain": [
              "CLASIFFICATION_FINAL\n",
              "0    656596\n",
              "1    391979\n",
              "Name: count, dtype: int64"
            ]
          },
          "execution_count": 17,
          "metadata": {},
          "output_type": "execute_result"
        }
      ],
      "source": [
        "preprocessed_data['CLASIFFICATION_FINAL'].value_counts()"
      ]
    },
    {
      "cell_type": "code",
      "execution_count": null,
      "metadata": {
        "id": "WqOGeWhS--qb"
      },
      "outputs": [],
      "source": [
        "X = preprocessed_data\n",
        "y = preprocessed_data['CLASIFFICATION_FINAL']\n",
        "X.rename(columns={'CLASIFFICATION_FINAL': 'CLASIFFICATION'}, inplace=True)"
      ]
    },
    {
      "cell_type": "markdown",
      "metadata": {
        "id": "9vCSz10v_EXy"
      },
      "source": [
        "Partition the data to train, val, test"
      ]
    },
    {
      "cell_type": "code",
      "execution_count": null,
      "metadata": {
        "id": "XtUXwd5X2hKl"
      },
      "outputs": [],
      "source": [
        "X_train, X_val, X_test, y_train, y_val, y_test = partition_data(X, y)\n"
      ]
    },
    {
      "cell_type": "markdown",
      "metadata": {
        "id": "_eL2-XYM_HSN"
      },
      "source": [
        "balance the data"
      ]
    },
    {
      "cell_type": "code",
      "execution_count": null,
      "metadata": {
        "id": "7YQaVm252j8C"
      },
      "outputs": [],
      "source": [
        "X_train_balanced, y_train_balanced = balance_classes(X_train, y_train)"
      ]
    },
    {
      "cell_type": "markdown",
      "metadata": {
        "id": "vo1jU3ZW_J1N"
      },
      "source": [
        "Create Fake Error with suituble Rate"
      ]
    },
    {
      "cell_type": "code",
      "execution_count": null,
      "metadata": {
        "id": "E3dVfJq62mYK"
      },
      "outputs": [],
      "source": [
        "# Randomly replace 2.04% of cases where CLASIFFICATION is 1 with 0\n",
        "random_replace(X_train_balanced, 'CLASIFFICATION', 1, 0, 2.04)\n",
        "random_replace(X_val, 'CLASIFFICATION', 1, 0, 2.04)\n",
        "random_replace(X_test, 'CLASIFFICATION', 1, 0, 2.04)\n",
        "\n",
        "# Randomly replace 3.07% of cases where CLASIFFICATION is 0 with 1\n",
        "random_replace(X_train_balanced, 'CLASIFFICATION', 0, 1, 3.07)\n",
        "random_replace(X_val, 'CLASIFFICATION', 0, 1, 3.07)\n",
        "random_replace(X_test, 'CLASIFFICATION', 0, 1, 3.07)\n",
        "\n",
        "# Randomly replace 4.63% of cases where PNEUMONIA is 0 with 1\n",
        "random_replace(X_train_balanced, 'PNEUMONIA', 0, 1, 4.63)\n",
        "random_replace(X_val, 'PNEUMONIA', 0, 1, 4.63)\n",
        "random_replace(X_test, 'PNEUMONIA', 0, 1, 4.63)\n"
      ]
    },
    {
      "cell_type": "markdown",
      "metadata": {
        "id": "VLSuqVf8_ad1"
      },
      "source": [
        "Chreak Shape of Data"
      ]
    },
    {
      "cell_type": "code",
      "execution_count": null,
      "metadata": {
        "colab": {
          "base_uri": "https://localhost:8080/"
        },
        "id": "d6k1waMO2ozK",
        "outputId": "2599e19e-43dc-4ec7-d86f-cf07ef165868"
      },
      "outputs": [
        {
          "data": {
            "text/plain": [
              "((918788, 18), (918788,))"
            ]
          },
          "execution_count": 32,
          "metadata": {},
          "output_type": "execute_result"
        }
      ],
      "source": [
        "X_train_balanced.shape, y_train_balanced.shape"
      ]
    },
    {
      "cell_type": "code",
      "execution_count": null,
      "metadata": {
        "colab": {
          "base_uri": "https://localhost:8080/"
        },
        "id": "rYqXGWcd2uNO",
        "outputId": "dd8e5b36-613a-4d4d-c865-3d72f2f63c82"
      },
      "outputs": [
        {
          "data": {
            "text/plain": [
              "((157286, 18), (157286,))"
            ]
          },
          "execution_count": 33,
          "metadata": {},
          "output_type": "execute_result"
        }
      ],
      "source": [
        "X_val.shape , y_val.shape"
      ]
    },
    {
      "cell_type": "code",
      "execution_count": null,
      "metadata": {
        "colab": {
          "base_uri": "https://localhost:8080/"
        },
        "id": "Qmcf0AJH2wpY",
        "outputId": "006a9196-4124-48f1-bd53-65c6a7ff1dc9"
      },
      "outputs": [
        {
          "data": {
            "text/plain": [
              "((157287, 18), (157287,))"
            ]
          },
          "execution_count": 34,
          "metadata": {},
          "output_type": "execute_result"
        }
      ],
      "source": [
        "X_test.shape , y_test.shape"
      ]
    },
    {
      "cell_type": "markdown",
      "metadata": {
        "id": "7hRcb6FH3WMs"
      },
      "source": [
        "#Cheak point step"
      ]
    },
    {
      "cell_type": "markdown",
      "metadata": {
        "id": "Jbob2Aom5Z3J"
      },
      "source": [
        "Save Data"
      ]
    },
    {
      "cell_type": "code",
      "execution_count": null,
      "metadata": {
        "colab": {
          "base_uri": "https://localhost:8080/",
          "height": 1000
        },
        "id": "oZlsDICX2xpI",
        "outputId": "e066dba2-2daf-478e-9ab7-dcbc762b6921"
      },
      "outputs": [],
      "source": [
        "from google.colab import drive\n",
        "drive.mount('/content/drive')\n",
        "\n",
        "X_train_balanced.to_csv('/content/drive/My Drive/X_train_balanced.csv', index=False)\n",
        "y_train_balanced.to_csv('/content/drive/My Drive/y_train_balanced.csv', index=False)\n",
        "\n",
        "X_val.to_csv('/content/drive/My Drive/X_val.csv', index=False)\n",
        "y_val.to_csv('/content/drive/My Drive/y_val.csv', index=False)\n",
        "\n",
        "X_test.to_csv('/content/drive/My Drive/X_test.csv', index=False)\n",
        "y_test.to_csv('/content/drive/My Drive/y_test.csv', index=False)\n"
      ]
    },
    {
      "cell_type": "markdown",
      "metadata": {
        "id": "lg6lkcIr5bM-"
      },
      "source": [
        "Get Data"
      ]
    },
    {
      "cell_type": "code",
      "execution_count": 1,
      "metadata": {
        "id": "dlJvHAOKqOyo"
      },
      "outputs": [],
      "source": [
        "import os\n",
        "import cv2\n",
        "import pandas as pd\n",
        "import numpy as np\n",
        "import tensorflow as tf\n",
        "import matplotlib.pyplot as plt\n",
        "from sklearn.metrics import confusion_matrix\n",
        "from tensorflow.keras.models import Sequential\n",
        "from sklearn.model_selection import train_test_split\n",
        "from tensorflow.keras.layers import Conv2D, MaxPooling2D, Flatten, Dense\n"
      ]
    },
    {
      "cell_type": "code",
      "execution_count": 2,
      "metadata": {
        "colab": {
          "base_uri": "https://localhost:8080/"
        },
        "id": "uUsMLktr5JSm",
        "outputId": "31e8900a-8121-488c-92f7-25039df94e94"
      },
      "outputs": [
        {
          "name": "stdout",
          "output_type": "stream",
          "text": [
            "Drive already mounted at /content/drive; to attempt to forcibly remount, call drive.mount(\"/content/drive\", force_remount=True).\n"
          ]
        }
      ],
      "source": [
        "from google.colab import drive\n",
        "drive.mount('/content/drive')\n",
        "\n",
        "X_train_balanced = pd.read_csv('/content/drive/My Drive/X_train_balanced.csv')\n",
        "y_train_balanced = pd.read_csv('/content/drive/My Drive/y_train_balanced.csv')\n",
        "\n",
        "X_val = pd.read_csv('/content/drive/My Drive/X_val.csv')\n",
        "y_val = pd.read_csv('/content/drive/My Drive/y_val.csv')\n",
        "\n",
        "X_test = pd.read_csv('/content/drive/My Drive/X_test.csv')\n",
        "y_test = pd.read_csv('/content/drive/My Drive/y_test.csv')\n"
      ]
    },
    {
      "cell_type": "markdown",
      "metadata": {
        "id": "Ptksq8Ac3pYC"
      },
      "source": [
        "#Now continue to the rest of code"
      ]
    },
    {
      "cell_type": "code",
      "execution_count": 3,
      "metadata": {
        "colab": {
          "base_uri": "https://localhost:8080/"
        },
        "id": "Y6XlCAIWU287",
        "outputId": "9aa6a862-8373-4d21-d7a0-4d7f3da4d4d8"
      },
      "outputs": [
        {
          "data": {
            "text/plain": [
              "((918788, 18), (157286, 18), (157287, 18))"
            ]
          },
          "execution_count": 3,
          "metadata": {},
          "output_type": "execute_result"
        }
      ],
      "source": [
        "X_train_balanced.shape, X_val.shape, X_test.shape"
      ]
    },
    {
      "cell_type": "markdown",
      "metadata": {
        "id": "schwX6AD8_p-"
      },
      "source": [
        "Get addition data after we include suitable error rate"
      ]
    },
    {
      "cell_type": "code",
      "execution_count": 4,
      "metadata": {
        "id": "09vx_jtx3pAn"
      },
      "outputs": [],
      "source": [
        "additional_train = X_train_balanced[['PNEUMONIA', 'CLASIFFICATION']]\n",
        "additional_val = X_val[['PNEUMONIA', 'CLASIFFICATION']]\n",
        "additional_test = X_test[['PNEUMONIA', 'CLASIFFICATION']]\n"
      ]
    },
    {
      "cell_type": "markdown",
      "metadata": {
        "id": "OpabQiLV8-44"
      },
      "source": [
        "Drop addition data from main data"
      ]
    },
    {
      "cell_type": "code",
      "execution_count": 5,
      "metadata": {
        "id": "nVsYZbIV368M"
      },
      "outputs": [],
      "source": [
        "X_train_balanced = X_train_balanced.drop(['PNEUMONIA', 'CLASIFFICATION'], axis=1)\n",
        "X_val = X_val.drop(['PNEUMONIA', 'CLASIFFICATION'], axis=1)\n",
        "X_test = X_test.drop(['PNEUMONIA', 'CLASIFFICATION'], axis=1)\n"
      ]
    },
    {
      "cell_type": "markdown",
      "metadata": {
        "id": "atAL6tAT9JTp"
      },
      "source": [
        "Cheak data shape"
      ]
    },
    {
      "cell_type": "code",
      "execution_count": 6,
      "metadata": {
        "colab": {
          "base_uri": "https://localhost:8080/"
        },
        "id": "OL2Lp3rw4OxH",
        "outputId": "2174bdc0-ad09-4064-eb2c-72f486f6bc6e"
      },
      "outputs": [
        {
          "data": {
            "text/plain": [
              "((918788, 16), (157286, 16), (157287, 16))"
            ]
          },
          "execution_count": 6,
          "metadata": {},
          "output_type": "execute_result"
        }
      ],
      "source": [
        "X_train_balanced.shape, X_val.shape, X_test.shape"
      ]
    },
    {
      "cell_type": "code",
      "execution_count": 7,
      "metadata": {
        "colab": {
          "base_uri": "https://localhost:8080/"
        },
        "id": "bnhgNThv4TLQ",
        "outputId": "32f40fde-d23a-4b12-a150-69e9eb5468a8"
      },
      "outputs": [
        {
          "data": {
            "text/plain": [
              "((918788, 2), (157286, 2), (157287, 2))"
            ]
          },
          "execution_count": 7,
          "metadata": {},
          "output_type": "execute_result"
        }
      ],
      "source": [
        "additional_train.shape, additional_val.shape, additional_test.shape"
      ]
    },
    {
      "cell_type": "code",
      "execution_count": 8,
      "metadata": {
        "colab": {
          "base_uri": "https://localhost:8080/"
        },
        "id": "bCVshucC4XK9",
        "outputId": "1b58631e-095d-4e88-be60-9f9c0b2df38d"
      },
      "outputs": [
        {
          "data": {
            "text/plain": [
              "((918788, 1), (157286, 1), (157287, 1))"
            ]
          },
          "execution_count": 8,
          "metadata": {},
          "output_type": "execute_result"
        }
      ],
      "source": [
        "y_train_balanced.shape, y_val.shape, y_test.shape"
      ]
    },
    {
      "cell_type": "code",
      "execution_count": 9,
      "metadata": {
        "colab": {
          "base_uri": "https://localhost:8080/"
        },
        "id": "NEsDszPtCKjE",
        "outputId": "b11abd8b-4e8d-4873-f5b2-5b447eb056f2"
      },
      "outputs": [
        {
          "data": {
            "text/plain": [
              "CLASIFFICATION_FINAL\n",
              "1    459394\n",
              "0    459394\n",
              "Name: count, dtype: int64"
            ]
          },
          "execution_count": 9,
          "metadata": {},
          "output_type": "execute_result"
        }
      ],
      "source": [
        "y_train_balanced['CLASIFFICATION_FINAL'].value_counts()"
      ]
    },
    {
      "cell_type": "code",
      "execution_count": null,
      "metadata": {
        "id": "8xqZHXxlKUZL"
      },
      "outputs": [],
      "source": [
        "def check_training_data(df, target_column):\n",
        "    # Initialize a report dictionary to store results of checks\n",
        "    report = {\n",
        "        'missing_values': None,\n",
        "        'data_types': None,\n",
        "        'class_balance': None,\n",
        "        'duplicate_rows': None,\n",
        "        'outliers': None\n",
        "    }\n",
        "\n",
        "    # Check for missing values\n",
        "    missing_values = df.isnull().sum()\n",
        "    if missing_values.any():\n",
        "        report['missing_values'] = missing_values[missing_values > 0]\n",
        "    else:\n",
        "        report['missing_values'] = \"No missing values\"\n",
        "\n",
        "    # Check data types\n",
        "    report['data_types'] = df.dtypes\n",
        "\n",
        "    # Check for class imbalance in the target variable\n",
        "    class_counts = df[target_column].value_counts()\n",
        "    report['class_balance'] = class_counts\n",
        "\n",
        "    # Check for duplicate rows\n",
        "    duplicate_rows = df.duplicated().sum()\n",
        "    if duplicate_rows > 0:\n",
        "        report['duplicate_rows'] = f\"{duplicate_rows} duplicate rows found\"\n",
        "    else:\n",
        "        report['duplicate_rows'] = \"No duplicate rows\"\n",
        "\n",
        "    # Check for outliers in numerical columns\n",
        "    numerical_columns = df.select_dtypes(include=['int64', 'float64']).columns\n",
        "    outliers = {}\n",
        "    for column in numerical_columns:\n",
        "        q1 = df[column].quantile(0.25)\n",
        "        q3 = df[column].quantile(0.75)\n",
        "        iqr = q3 - q1\n",
        "        lower_bound = q1 - 1.5 * iqr\n",
        "        upper_bound = q3 + 1.5 * iqr\n",
        "        outliers[column] = ((df[column] < lower_bound) | (df[column] > upper_bound)).sum()\n",
        "\n",
        "    report['outliers'] = outliers\n",
        "\n",
        "    # Print the report\n",
        "    for key, value in report.items():\n",
        "        print(f\"{key.capitalize()}: {value}\")\n",
        "\n",
        "    # Return the report\n",
        "    return report\n"
      ]
    },
    {
      "cell_type": "code",
      "execution_count": null,
      "metadata": {
        "colab": {
          "base_uri": "https://localhost:8080/"
        },
        "id": "6pHczMv39PQ1",
        "outputId": "99248e96-81d9-4e76-a3aa-67d560a587c1"
      },
      "outputs": [
        {
          "name": "stdout",
          "output_type": "stream",
          "text": [
            "Requirement already satisfied: imblearn in /usr/local/lib/python3.10/dist-packages (0.0)\n",
            "Requirement already satisfied: imbalanced-learn in /usr/local/lib/python3.10/dist-packages (from imblearn) (0.12.3)\n",
            "Requirement already satisfied: numpy>=1.17.3 in /usr/local/lib/python3.10/dist-packages (from imbalanced-learn->imblearn) (1.25.2)\n",
            "Requirement already satisfied: scipy>=1.5.0 in /usr/local/lib/python3.10/dist-packages (from imbalanced-learn->imblearn) (1.11.4)\n",
            "Requirement already satisfied: scikit-learn>=1.0.2 in /usr/local/lib/python3.10/dist-packages (from imbalanced-learn->imblearn) (1.2.2)\n",
            "Requirement already satisfied: joblib>=1.1.1 in /usr/local/lib/python3.10/dist-packages (from imbalanced-learn->imblearn) (1.4.2)\n",
            "Requirement already satisfied: threadpoolctl>=2.0.0 in /usr/local/lib/python3.10/dist-packages (from imbalanced-learn->imblearn) (3.5.0)\n",
            "Collecting xgboost\n",
            "  Downloading xgboost-2.1.0-py3-none-manylinux_2_28_x86_64.whl (153.9 MB)\n",
            "\u001b[2K     \u001b[90m━━━━━━━━━━━━━━━━━━━━━━━━━━━━━━━━━━━━━━━━\u001b[0m \u001b[32m153.9/153.9 MB\u001b[0m \u001b[31m5.9 MB/s\u001b[0m eta \u001b[36m0:00:00\u001b[0m\n",
            "\u001b[?25hRequirement already satisfied: numpy in /usr/local/lib/python3.10/dist-packages (from xgboost) (1.25.2)\n",
            "Collecting nvidia-nccl-cu12 (from xgboost)\n",
            "  Downloading nvidia_nccl_cu12-2.22.3-py3-none-manylinux2014_x86_64.whl (190.9 MB)\n",
            "\u001b[2K     \u001b[90m━━━━━━━━━━━━━━━━━━━━━━━━━━━━━━━━━━━━━━━━\u001b[0m \u001b[32m190.9/190.9 MB\u001b[0m \u001b[31m4.7 MB/s\u001b[0m eta \u001b[36m0:00:00\u001b[0m\n",
            "\u001b[?25hRequirement already satisfied: scipy in /usr/local/lib/python3.10/dist-packages (from xgboost) (1.11.4)\n",
            "Installing collected packages: nvidia-nccl-cu12, xgboost\n",
            "Successfully installed nvidia-nccl-cu12-2.22.3 xgboost-2.1.0\n"
          ]
        }
      ],
      "source": [
        "!pip install imblearn\n",
        "!pip install xgboost"
      ]
    },
    {
      "cell_type": "code",
      "execution_count": null,
      "metadata": {
        "id": "o4dv7sj4Konk"
      },
      "outputs": [],
      "source": [
        "import pandas as pd\n",
        "from sklearn.model_selection import train_test_split\n",
        "from imblearn.over_sampling import SMOTE\n",
        "import xgboost as xgb\n",
        "from sklearn.metrics import accuracy_score"
      ]
    },
    {
      "cell_type": "code",
      "execution_count": null,
      "metadata": {
        "colab": {
          "base_uri": "https://localhost:8080/"
        },
        "id": "a2Pk4sRrKwjM",
        "outputId": "dd0782e6-72b6-4a82-844f-74821fecf96d"
      },
      "outputs": [
        {
          "name": "stdout",
          "output_type": "stream",
          "text": [
            "Missing_values: No missing values\n",
            "Data_types: AGE                 float64\n",
            "SEX_2                  bool\n",
            "PATIENT_TYPE_2         bool\n",
            "PREGNANT_2             bool\n",
            "DIABETES_2             bool\n",
            "COPD_2                 bool\n",
            "ASTHMA_2               bool\n",
            "INMSUPR_2              bool\n",
            "HIPERTENSION_2         bool\n",
            "CARDIOVASCULAR_2       bool\n",
            "RENAL_CHRONIC_2        bool\n",
            "OBESITY_2              bool\n",
            "TOBACCO_2              bool\n",
            "USMER_2                bool\n",
            "INTUBED_2              bool\n",
            "ICU_2                  bool\n",
            "dtype: object\n",
            "Class_balance: Series([], Name: count, dtype: int64)\n",
            "Duplicate_rows: 857442 duplicate rows found\n",
            "Outliers: {'AGE': 4485}\n"
          ]
        },
        {
          "data": {
            "text/plain": [
              "{'missing_values': 'No missing values',\n",
              " 'data_types': AGE                 float64\n",
              " SEX_2                  bool\n",
              " PATIENT_TYPE_2         bool\n",
              " PREGNANT_2             bool\n",
              " DIABETES_2             bool\n",
              " COPD_2                 bool\n",
              " ASTHMA_2               bool\n",
              " INMSUPR_2              bool\n",
              " HIPERTENSION_2         bool\n",
              " CARDIOVASCULAR_2       bool\n",
              " RENAL_CHRONIC_2        bool\n",
              " OBESITY_2              bool\n",
              " TOBACCO_2              bool\n",
              " USMER_2                bool\n",
              " INTUBED_2              bool\n",
              " ICU_2                  bool\n",
              " dtype: object,\n",
              " 'class_balance': Series([], Name: count, dtype: int64),\n",
              " 'duplicate_rows': '857442 duplicate rows found',\n",
              " 'outliers': {'AGE': 4485}}"
            ]
          },
          "execution_count": 19,
          "metadata": {},
          "output_type": "execute_result"
        }
      ],
      "source": [
        "check_training_data(X_train_balanced, y_train_balanced)"
      ]
    },
    {
      "cell_type": "code",
      "execution_count": null,
      "metadata": {
        "id": "y3vShjtqKXC0"
      },
      "outputs": [],
      "source": [
        "# XGBoost DMatrix format\n",
        "dtrain = xgb.DMatrix(X_train_balanced, label=y_train_balanced)\n",
        "dval = xgb.DMatrix(X_val, label=y_val)\n",
        "dtest = xgb.DMatrix(X_test, label=y_test)"
      ]
    },
    {
      "cell_type": "code",
      "execution_count": null,
      "metadata": {
        "id": "kXF0DdiKLXAJ"
      },
      "outputs": [],
      "source": [
        "# Define model parameters\n",
        "params = {\n",
        "    'objective': 'binary:logistic',\n",
        "    'eval_metric': 'logloss',\n",
        "    'eta': 0.1,\n",
        "    'max_depth': 6,\n",
        "    'subsample': 0.8,\n",
        "    'colsample_bytree': 0.8,\n",
        "    'seed': 42\n",
        "}\n"
      ]
    },
    {
      "cell_type": "code",
      "execution_count": null,
      "metadata": {
        "colab": {
          "base_uri": "https://localhost:8080/"
        },
        "id": "-ReqvJTiLbe1",
        "outputId": "6a436d85-71fc-4022-ff29-9e493763a021"
      },
      "outputs": [
        {
          "name": "stdout",
          "output_type": "stream",
          "text": [
            "[0]\ttrain-logloss:0.68912\teval-logloss:0.68922\n",
            "[10]\ttrain-logloss:0.66442\teval-logloss:0.66488\n",
            "[20]\ttrain-logloss:0.65938\teval-logloss:0.66024\n",
            "[30]\ttrain-logloss:0.65787\teval-logloss:0.65904\n",
            "[40]\ttrain-logloss:0.65725\teval-logloss:0.65876\n",
            "[50]\ttrain-logloss:0.65689\teval-logloss:0.65861\n",
            "[60]\ttrain-logloss:0.65658\teval-logloss:0.65853\n",
            "[70]\ttrain-logloss:0.65625\teval-logloss:0.65848\n",
            "[80]\ttrain-logloss:0.65601\teval-logloss:0.65843\n",
            "[90]\ttrain-logloss:0.65577\teval-logloss:0.65838\n",
            "[100]\ttrain-logloss:0.65549\teval-logloss:0.65835\n",
            "[110]\ttrain-logloss:0.65526\teval-logloss:0.65824\n",
            "[120]\ttrain-logloss:0.65495\teval-logloss:0.65824\n",
            "[130]\ttrain-logloss:0.65478\teval-logloss:0.65827\n",
            "[140]\ttrain-logloss:0.65461\teval-logloss:0.65825\n",
            "[150]\ttrain-logloss:0.65440\teval-logloss:0.65827\n",
            "[160]\ttrain-logloss:0.65428\teval-logloss:0.65821\n",
            "[170]\ttrain-logloss:0.65416\teval-logloss:0.65816\n",
            "[180]\ttrain-logloss:0.65397\teval-logloss:0.65816\n",
            "[190]\ttrain-logloss:0.65388\teval-logloss:0.65817\n",
            "[200]\ttrain-logloss:0.65376\teval-logloss:0.65816\n",
            "[210]\ttrain-logloss:0.65362\teval-logloss:0.65812\n",
            "[220]\ttrain-logloss:0.65347\teval-logloss:0.65811\n",
            "[230]\ttrain-logloss:0.65335\teval-logloss:0.65813\n",
            "[240]\ttrain-logloss:0.65323\teval-logloss:0.65816\n",
            "[250]\ttrain-logloss:0.65312\teval-logloss:0.65809\n",
            "[260]\ttrain-logloss:0.65298\teval-logloss:0.65814\n",
            "[270]\ttrain-logloss:0.65289\teval-logloss:0.65815\n",
            "[280]\ttrain-logloss:0.65282\teval-logloss:0.65816\n",
            "[290]\ttrain-logloss:0.65271\teval-logloss:0.65813\n",
            "[300]\ttrain-logloss:0.65264\teval-logloss:0.65814\n",
            "[310]\ttrain-logloss:0.65255\teval-logloss:0.65816\n",
            "[320]\ttrain-logloss:0.65247\teval-logloss:0.65816\n",
            "[330]\ttrain-logloss:0.65239\teval-logloss:0.65817\n",
            "[340]\ttrain-logloss:0.65232\teval-logloss:0.65816\n",
            "[350]\ttrain-logloss:0.65224\teval-logloss:0.65818\n",
            "[360]\ttrain-logloss:0.65218\teval-logloss:0.65818\n",
            "[370]\ttrain-logloss:0.65210\teval-logloss:0.65820\n",
            "[380]\ttrain-logloss:0.65203\teval-logloss:0.65817\n",
            "[390]\ttrain-logloss:0.65196\teval-logloss:0.65820\n",
            "[400]\ttrain-logloss:0.65189\teval-logloss:0.65820\n",
            "[410]\ttrain-logloss:0.65183\teval-logloss:0.65823\n",
            "[420]\ttrain-logloss:0.65177\teval-logloss:0.65825\n",
            "[430]\ttrain-logloss:0.65172\teval-logloss:0.65827\n",
            "[440]\ttrain-logloss:0.65166\teval-logloss:0.65823\n",
            "[450]\ttrain-logloss:0.65160\teval-logloss:0.65827\n",
            "[460]\ttrain-logloss:0.65155\teval-logloss:0.65833\n",
            "[470]\ttrain-logloss:0.65149\teval-logloss:0.65838\n",
            "[480]\ttrain-logloss:0.65144\teval-logloss:0.65837\n",
            "[490]\ttrain-logloss:0.65139\teval-logloss:0.65835\n",
            "[500]\ttrain-logloss:0.65133\teval-logloss:0.65838\n",
            "[510]\ttrain-logloss:0.65129\teval-logloss:0.65839\n",
            "[520]\ttrain-logloss:0.65124\teval-logloss:0.65841\n",
            "[530]\ttrain-logloss:0.65119\teval-logloss:0.65837\n",
            "[540]\ttrain-logloss:0.65114\teval-logloss:0.65837\n",
            "[550]\ttrain-logloss:0.65109\teval-logloss:0.65841\n",
            "[560]\ttrain-logloss:0.65105\teval-logloss:0.65844\n",
            "[570]\ttrain-logloss:0.65099\teval-logloss:0.65844\n",
            "[580]\ttrain-logloss:0.65094\teval-logloss:0.65851\n",
            "[590]\ttrain-logloss:0.65090\teval-logloss:0.65850\n",
            "[600]\ttrain-logloss:0.65085\teval-logloss:0.65847\n",
            "[610]\ttrain-logloss:0.65081\teval-logloss:0.65850\n",
            "[620]\ttrain-logloss:0.65077\teval-logloss:0.65847\n",
            "[630]\ttrain-logloss:0.65072\teval-logloss:0.65847\n",
            "[640]\ttrain-logloss:0.65069\teval-logloss:0.65849\n",
            "[650]\ttrain-logloss:0.65064\teval-logloss:0.65850\n",
            "[660]\ttrain-logloss:0.65060\teval-logloss:0.65859\n",
            "[670]\ttrain-logloss:0.65056\teval-logloss:0.65855\n",
            "[680]\ttrain-logloss:0.65052\teval-logloss:0.65858\n",
            "[690]\ttrain-logloss:0.65048\teval-logloss:0.65852\n",
            "[700]\ttrain-logloss:0.65044\teval-logloss:0.65854\n",
            "[710]\ttrain-logloss:0.65040\teval-logloss:0.65860\n",
            "[720]\ttrain-logloss:0.65036\teval-logloss:0.65863\n",
            "[730]\ttrain-logloss:0.65033\teval-logloss:0.65864\n",
            "[740]\ttrain-logloss:0.65030\teval-logloss:0.65865\n",
            "[750]\ttrain-logloss:0.65027\teval-logloss:0.65865\n",
            "[760]\ttrain-logloss:0.65024\teval-logloss:0.65870\n",
            "[770]\ttrain-logloss:0.65020\teval-logloss:0.65871\n",
            "[780]\ttrain-logloss:0.65016\teval-logloss:0.65866\n",
            "[790]\ttrain-logloss:0.65014\teval-logloss:0.65870\n",
            "[800]\ttrain-logloss:0.65011\teval-logloss:0.65875\n",
            "[810]\ttrain-logloss:0.65007\teval-logloss:0.65874\n",
            "[820]\ttrain-logloss:0.65003\teval-logloss:0.65878\n",
            "[830]\ttrain-logloss:0.65001\teval-logloss:0.65880\n",
            "[840]\ttrain-logloss:0.64997\teval-logloss:0.65879\n",
            "[850]\ttrain-logloss:0.64994\teval-logloss:0.65886\n",
            "[860]\ttrain-logloss:0.64991\teval-logloss:0.65885\n",
            "[870]\ttrain-logloss:0.64988\teval-logloss:0.65889\n",
            "[880]\ttrain-logloss:0.64985\teval-logloss:0.65885\n",
            "[890]\ttrain-logloss:0.64982\teval-logloss:0.65888\n",
            "[900]\ttrain-logloss:0.64979\teval-logloss:0.65884\n",
            "[910]\ttrain-logloss:0.64976\teval-logloss:0.65889\n",
            "[920]\ttrain-logloss:0.64974\teval-logloss:0.65896\n",
            "[930]\ttrain-logloss:0.64970\teval-logloss:0.65892\n",
            "[940]\ttrain-logloss:0.64968\teval-logloss:0.65894\n",
            "[950]\ttrain-logloss:0.64965\teval-logloss:0.65892\n",
            "[960]\ttrain-logloss:0.64962\teval-logloss:0.65902\n",
            "[970]\ttrain-logloss:0.64959\teval-logloss:0.65900\n",
            "[980]\ttrain-logloss:0.64956\teval-logloss:0.65903\n",
            "[990]\ttrain-logloss:0.64954\teval-logloss:0.65904\n",
            "[999]\ttrain-logloss:0.64950\teval-logloss:0.65907\n"
          ]
        }
      ],
      "source": [
        "# Training the model\n",
        "watchlist = [(dtrain, 'train'), (dval, 'eval')]\n",
        "model = xgb.train(params, dtrain, num_boost_round=1000, evals=watchlist, verbose_eval=10)\n"
      ]
    },
    {
      "cell_type": "code",
      "execution_count": null,
      "metadata": {
        "colab": {
          "base_uri": "https://localhost:8080/"
        },
        "id": "IcKBAQjdKj-d",
        "outputId": "022b4154-d535-4cbe-c702-8312b6434913"
      },
      "outputs": [
        {
          "name": "stdout",
          "output_type": "stream",
          "text": [
            "Test Accuracy: 0.3770, when limit is : 0.1\n",
            "Test Accuracy: 0.3859, when limit is : 0.2\n",
            "Test Accuracy: 0.3973, when limit is : 0.3\n",
            "Test Accuracy: 0.4595, when limit is : 0.4\n",
            "Test Accuracy: 0.6310, when limit is : 0.5\n",
            "Test Accuracy: 0.6622, when limit is : 0.6\n",
            "Test Accuracy: 0.6582, when limit is : 0.7\n",
            "Test Accuracy: 0.6397, when limit is : 0.8\n",
            "Test Accuracy: 0.6267, when limit is : 0.9\n"
          ]
        }
      ],
      "source": [
        "# Predict and evaluate\n",
        "y_pred = model.predict(dtest)\n",
        "limits = [0.1, 0.2, 0.3, 0.4, 0.5, 0.6, 0.7, 0.8, 0.9]\n",
        "for l in limits:\n",
        "  y_pred_binary = [1 if pred > l else 0 for pred in y_pred]\n",
        "  accuracy = accuracy_score(y_test, y_pred_binary)\n",
        "  print(f'Test Accuracy: {accuracy:.4f}, when limit is :', l)\n"
      ]
    },
    {
      "cell_type": "code",
      "execution_count": null,
      "metadata": {
        "colab": {
          "base_uri": "https://localhost:8080/"
        },
        "id": "iwKxXQon-VE6",
        "outputId": "5740b88b-5836-4f37-e649-5b75f57232d7"
      },
      "outputs": [
        {
          "name": "stdout",
          "output_type": "stream",
          "text": [
            "Requirement already satisfied: lightgbm in /usr/local/lib/python3.10/dist-packages (4.4.0)\n",
            "Requirement already satisfied: numpy>=1.17.0 in /usr/local/lib/python3.10/dist-packages (from lightgbm) (1.25.2)\n",
            "Requirement already satisfied: scipy in /usr/local/lib/python3.10/dist-packages (from lightgbm) (1.11.4)\n"
          ]
        }
      ],
      "source": [
        "!pip install lightgbm"
      ]
    },
    {
      "cell_type": "code",
      "execution_count": null,
      "metadata": {
        "id": "YGW2t8YU9_XI"
      },
      "outputs": [],
      "source": [
        "import lightgbm as lgb\n",
        "from sklearn.metrics import accuracy_score\n"
      ]
    },
    {
      "cell_type": "code",
      "execution_count": null,
      "metadata": {
        "id": "op8vNWakBjwC"
      },
      "outputs": [],
      "source": [
        "\n",
        "# Combine tabular features and additional input\n",
        "combined_X_val = np.hstack((X_val, additional_val))\n",
        "combined_X_test = np.hstack((X_test, additional_test))\n"
      ]
    },
    {
      "cell_type": "code",
      "execution_count": null,
      "metadata": {
        "id": "9GVnbpXcB10J"
      },
      "outputs": [],
      "source": [
        "\n",
        "# Create custom datasets\n",
        "train_data = lgb.Dataset(np.hstack((X_train_balanced, additional_train)), label=y_train_balanced)\n",
        "val_data = lgb.Dataset(combined_X_val, label=y_val, reference=train_data)\n",
        "test_data = lgb.Dataset(combined_X_test, label=y_test, reference=train_data)\n"
      ]
    },
    {
      "cell_type": "code",
      "execution_count": null,
      "metadata": {
        "id": "7VEoyk8-B5TC"
      },
      "outputs": [],
      "source": [
        "\n",
        "# Define model parameters\n",
        "params = {\n",
        "    'objective': 'binary',\n",
        "    'metric': 'binary_logloss',\n",
        "    'boosting_type': 'gbdt',\n",
        "    'learning_rate': 0.1,\n",
        "    'num_leaves': 31,\n",
        "    'max_depth': -1,\n",
        "    'feature_fraction': 0.8,\n",
        "    'bagging_fraction': 0.8,\n",
        "    'bagging_freq': 5,\n",
        "    'seed': 42\n",
        "}\n"
      ]
    },
    {
      "cell_type": "code",
      "execution_count": null,
      "metadata": {
        "colab": {
          "base_uri": "https://localhost:8080/"
        },
        "id": "-eKO57ppCD6Q",
        "outputId": "ca734cdb-a5a8-4754-f53f-47b7742b8d17"
      },
      "outputs": [
        {
          "name": "stdout",
          "output_type": "stream",
          "text": [
            "[LightGBM] [Info] Number of positive: 459394, number of negative: 459394\n",
            "[LightGBM] [Info] Auto-choosing row-wise multi-threading, the overhead of testing was 0.023264 seconds.\n",
            "You can set `force_row_wise=true` to remove the overhead.\n",
            "And if memory is not enough, you can set `force_col_wise=true`.\n",
            "[LightGBM] [Info] Total Bins 269\n",
            "[LightGBM] [Info] Number of data points in the train set: 918788, number of used features: 18\n",
            "[LightGBM] [Info] [binary:BoostFromScore]: pavg=0.500000 -> initscore=0.000000\n"
          ]
        }
      ],
      "source": [
        "# Training the model\n",
        "model = lgb.train(params, train_data, valid_sets=[train_data, val_data], num_boost_round=1000)\n"
      ]
    },
    {
      "cell_type": "code",
      "execution_count": null,
      "metadata": {
        "colab": {
          "base_uri": "https://localhost:8080/"
        },
        "id": "p6XvQE-NCdwi",
        "outputId": "69b88636-63fa-4874-d3f2-916222434074"
      },
      "outputs": [
        {
          "name": "stdout",
          "output_type": "stream",
          "text": [
            "Test Accuracy: 0.9695270429215384, when limit is : 0.1\n",
            "Test Accuracy: 0.9730683400408171, when limit is : 0.2\n",
            "Test Accuracy: 0.9732908631991201, when limit is : 0.3\n",
            "Test Accuracy: 0.9733353678307807, when limit is : 0.4\n",
            "Test Accuracy: 0.9733353678307807, when limit is : 0.5\n",
            "Test Accuracy: 0.9732908631991201, when limit is : 0.6\n",
            "Test Accuracy: 0.973189138326753, when limit is : 0.7\n",
            "Test Accuracy: 0.9727695232282388, when limit is : 0.8\n",
            "Test Accuracy: 0.9705824384723467, when limit is : 0.9\n"
          ]
        }
      ],
      "source": [
        "# Predict and evaluate\n",
        "y_pred = model.predict(combined_X_test, num_iteration=model.best_iteration)\n",
        "\n",
        "limits = [0.1, 0.2, 0.3, 0.4, 0.5, 0.6, 0.7, 0.8, 0.9]\n",
        "for l in limits:\n",
        "  y_pred_binary = [1 if pred > l else 0 for pred in y_pred]\n",
        "  accuracy = accuracy_score(y_test, y_pred_binary)\n",
        "  print(f'Test Accuracy: {accuracy}, when limit is :', l)"
      ]
    },
    {
      "cell_type": "code",
      "execution_count": null,
      "metadata": {
        "colab": {
          "base_uri": "https://localhost:8080/"
        },
        "id": "rna_v1ZURxyT",
        "outputId": "3c80c845-1aca-434f-d816-2888de077e8f"
      },
      "outputs": [
        {
          "data": {
            "text/plain": [
              "<lightgbm.basic.Booster at 0x7b87437ef790>"
            ]
          },
          "execution_count": 35,
          "metadata": {},
          "output_type": "execute_result"
        }
      ],
      "source": [
        "# Save the trained model\n",
        "model.save_model('/content/drive/My Drive/path_to_save/lgb_tabular_model_v2.txt')"
      ]
    },
    {
      "cell_type": "code",
      "execution_count": null,
      "metadata": {
        "id": "MQUJ-74faDdS"
      },
      "outputs": [],
      "source": [
        "import lightgbm as lgb\n",
        "import numpy as np\n",
        "from sklearn.metrics import accuracy_score, precision_score, recall_score, f1_score, confusion_matrix, roc_curve, auc, precision_recall_curve\n",
        "import matplotlib.pyplot as plt\n",
        "\n",
        "def check_model_usability(model_file, train_data, val_data, test_data):\n",
        "    # Load the model\n",
        "    model = lgb.Booster(model_file=model_file)\n",
        "\n",
        "    # Extract the features and labels from the datasets\n",
        "    X_train = train_data.data\n",
        "    y_train = train_data.label\n",
        "\n",
        "    X_val = val_data.data\n",
        "    y_val = val_data.label\n",
        "\n",
        "    X_test = test_data.data\n",
        "    y_test = test_data.label\n",
        "\n",
        "    # Predict probabilities\n",
        "    y_train_pred = model.predict(X_train, num_iteration=model.best_iteration)\n",
        "    y_val_pred = model.predict(X_val, num_iteration=model.best_iteration)\n",
        "    y_test_pred = model.predict(X_test, num_iteration=model.best_iteration)\n",
        "\n",
        "    # Thresholds for binary classification\n",
        "    Limits = [0.1, 0.2, 0.3, 0.4, 0.5, 0.6, 0.7, 0.8, 0.9]\n",
        "\n",
        "    for l in Limits:\n",
        "        print(f\"\\nThreshold: {l}\")\n",
        "\n",
        "        # Convert probabilities to binary predictions\n",
        "        y_train_binary = [1 if pred > l else 0 for pred in y_train_pred]\n",
        "        y_val_binary = [1 if pred > l else 0 for pred in y_val_pred]\n",
        "        y_test_binary = [1 if pred > l else 0 for pred in y_test_pred]\n",
        "\n",
        "        # Accuracy\n",
        "        train_accuracy = accuracy_score(y_train, y_train_binary)\n",
        "        val_accuracy = accuracy_score(y_val, y_val_binary)\n",
        "        test_accuracy = accuracy_score(y_test, y_test_binary)\n",
        "\n",
        "        # Precision, Recall, F1 Score\n",
        "        train_precision = precision_score(y_train, y_train_binary)\n",
        "        val_precision = precision_score(y_val, y_val_binary)\n",
        "        test_precision = precision_score(y_test, y_test_binary)\n",
        "\n",
        "        train_recall = recall_score(y_train, y_train_binary)\n",
        "        val_recall = recall_score(y_val, y_val_binary)\n",
        "        test_recall = recall_score(y_test, y_test_binary)\n",
        "\n",
        "        train_f1 = f1_score(y_train, y_train_binary)\n",
        "        val_f1 = f1_score(y_val, y_val_binary)\n",
        "        test_f1 = f1_score(y_test, y_test_binary)\n",
        "\n",
        "        print(f\"Train Accuracy: {train_accuracy}\")\n",
        "        print(f\"Validation Accuracy: {val_accuracy}\")\n",
        "        print(f\"Test Accuracy: {test_accuracy}\")\n",
        "\n",
        "        print(f\"Train Precision: {train_precision}, Recall: {train_recall}, F1: {train_f1}\")\n",
        "        print(f\"Validation Precision: {val_precision}, Recall: {val_recall}, F1: {val_f1}\")\n",
        "        print(f\"Test Precision: {test_precision}, Recall: {test_recall}, F1: {test_f1}\")\n",
        "\n",
        "        # Confusion Matrix\n",
        "        print(\"Confusion Matrix (Test):\")\n",
        "        print(confusion_matrix(y_test, y_test_binary))\n",
        "\n",
        "    # Plot ROC Curve\n",
        "    fpr, tpr, _ = roc_curve(y_test, y_test_pred)\n",
        "    roc_auc = auc(fpr, tpr)\n",
        "\n",
        "    plt.figure()\n",
        "    plt.plot(fpr, tpr, color='darkorange', lw=2, label='ROC curve (area = %0.2f)' % roc_auc)\n",
        "    plt.plot([0, 1], [0, 1], color='navy', lw=2, linestyle='--')\n",
        "    plt.xlim([0.0, 1.0])\n",
        "    plt.ylim([0.0, 1.05])\n",
        "    plt.xlabel('False Positive Rate')\n",
        "    plt.ylabel('True Positive Rate')\n",
        "    plt.title('Receiver Operating Characteristic')\n",
        "    plt.legend(loc=\"lower right\")\n",
        "    plt.show()\n",
        "\n",
        "    # Plot Precision-Recall Curve\n",
        "    precision, recall, _ = precision_recall_curve(y_test, y_test_pred)\n",
        "\n",
        "    plt.figure()\n",
        "    plt.plot(recall, precision, color='blue', lw=2)\n",
        "    plt.xlabel('Recall')\n",
        "    plt.ylabel('Precision')\n",
        "    plt.title('Precision-Recall Curve')\n",
        "    plt.show()\n",
        "\n",
        "    # Check for overfitting or underfitting\n",
        "    if val_accuracy < train_accuracy - 0.05:\n",
        "        print(\"\\nWarning: Model might be overfitting.\")\n",
        "    if test_accuracy < val_accuracy - 0.05:\n",
        "        print(\"\\nWarning: Model performance on test set is significantly lower than validation set.\")\n",
        "\n",
        "    print(\"\\nModel evaluation completed.\")\n"
      ]
    },
    {
      "cell_type": "code",
      "execution_count": null,
      "metadata": {
        "colab": {
          "base_uri": "https://localhost:8080/",
          "height": 1000
        },
        "id": "APTGeRqzaw3q",
        "outputId": "77cea051-e5e6-43a7-fdbe-608b7047f4c7"
      },
      "outputs": [
        {
          "name": "stdout",
          "output_type": "stream",
          "text": [
            "\n",
            "Threshold: 0.1\n",
            "Train Accuracy: 0.9733616459945058\n",
            "Validation Accuracy: 0.9696285746983203\n",
            "Test Accuracy: 0.9695270429215384\n",
            "Train Precision: 0.9646818740317324, Recall: 0.9827011236542054, F1: 0.9736081322537199\n",
            "Validation Precision: 0.9401376784341939, Recall: 0.9809595304715758, F1: 0.9601148878257313\n",
            "Test Precision: 0.9401507242594285, Recall: 0.9808710155040079, F1: 0.9600792917051881\n",
            "Confusion Matrix (Test):\n",
            "[[94859  3669]\n",
            " [ 1124 57635]]\n",
            "\n",
            "Threshold: 0.2\n",
            "Train Accuracy: 0.9752891853180494\n",
            "Validation Accuracy: 0.9731889678674517\n",
            "Test Accuracy: 0.9730683400408171\n",
            "Train Precision: 0.9694480875491819, Recall: 0.9815104246028463, F1: 0.9754419667194516\n",
            "Validation Precision: 0.9493449204487253, Recall: 0.9803623831297346, F1: 0.9646043696858292\n",
            "Test Precision: 0.9492888573924222, Recall: 0.9802753620721932, F1: 0.9645333065407415\n",
            "Confusion Matrix (Test):\n",
            "[[95451  3077]\n",
            " [ 1159 57600]]\n",
            "\n",
            "Threshold: 0.3\n",
            "Train Accuracy: 0.9752532684362443\n",
            "Validation Accuracy: 0.9733987767506326\n",
            "Test Accuracy: 0.9732908631991201\n",
            "Train Precision: 0.9696660707870559, Recall: 0.9812013217412504, F1: 0.9753995929685919\n",
            "Validation Precision: 0.9498925442221855, Recall: 0.9803282604244865, F1: 0.9648704471797283\n",
            "Test Precision: 0.9499109381184853, Recall: 0.9801902687247911, F1: 0.9648130931142213\n",
            "Confusion Matrix (Test):\n",
            "[[95491  3037]\n",
            " [ 1164 57595]]\n",
            "\n",
            "Threshold: 0.4\n",
            "Train Accuracy: 0.9752325890194473\n",
            "Validation Accuracy: 0.9734242081304121\n",
            "Test Accuracy: 0.9733353678307807\n",
            "Train Precision: 0.9697375895070228, Recall: 0.9810815988018999, F1: 0.9753766114598956\n",
            "Validation Precision: 0.9499702400634878, Recall: 0.9803111990718624, F1: 0.9649022637200242\n",
            "Test Precision: 0.9500800105580942, Recall: 0.9801221940468694, F1: 0.9648673100120627\n",
            "Confusion Matrix (Test):\n",
            "[[95502  3026]\n",
            " [ 1168 57591]]\n",
            "\n",
            "Threshold: 0.5\n",
            "Train Accuracy: 0.9752532684362443\n",
            "Validation Accuracy: 0.9733860610607429\n",
            "Test Accuracy: 0.9733353678307807\n",
            "Train Precision: 0.969876315772483, Recall: 0.9809749365468421, F1: 0.9753940554843108\n",
            "Validation Precision: 0.9499950391903959, Recall: 0.9801747082508702, F1: 0.9648489327040962\n",
            "Test Precision: 0.9501691279597393, Recall: 0.9800200820299869, F1: 0.9648637780235247\n",
            "Confusion Matrix (Test):\n",
            "[[95508  3020]\n",
            " [ 1174 57585]]\n",
            "\n",
            "Threshold: 0.6\n",
            "Train Accuracy: 0.9752532684362443\n",
            "Validation Accuracy: 0.9733542718360184\n",
            "Test Accuracy: 0.9732908631991201\n",
            "Train Precision: 0.9700401947085937, Recall: 0.9807986173088895, F1: 0.9753897409087515\n",
            "Validation Precision: 0.9500355589368705, Recall: 0.9800382174298778, F1: 0.9648036951501155\n",
            "Test Precision: 0.9502228090443967, Recall: 0.9798328766657023, F1: 0.9648007105212444\n",
            "Confusion Matrix (Test):\n",
            "[[95512  3016]\n",
            " [ 1185 57574]]\n",
            "\n",
            "Threshold: 0.7\n",
            "Train Accuracy: 0.9752576219976752\n",
            "Validation Accuracy: 0.973271619851735\n",
            "Test Accuracy: 0.973189138326753\n",
            "Train Precision: 0.9702591340945168, Recall: 0.9805722321144813, F1: 0.97538842293414\n",
            "Validation Precision: 0.9502035547611956, Recall: 0.979611683614277, F1: 0.9646835464305517\n",
            "Test Precision: 0.9503137384412154, Recall: 0.9794414472676526, F1: 0.9646577661562702\n",
            "Confusion Matrix (Test):\n",
            "[[95519  3009]\n",
            " [ 1208 57551]]\n",
            "\n",
            "Threshold: 0.8\n",
            "Train Accuracy: 0.9751117776897391\n",
            "Validation Accuracy: 0.97301730605394\n",
            "Test Accuracy: 0.9727695232282388\n",
            "Train Precision: 0.9706561608477109, Recall: 0.9798451873555162, F1: 0.9752290288440393\n",
            "Validation Precision: 0.9504540332736793, Recall: 0.9786050638094588, F1: 0.9643241425689306\n",
            "Test Precision: 0.9504233364201614, Recall: 0.9781310097176603, F1: 0.9640781340423213\n",
            "Confusion Matrix (Test):\n",
            "[[95530  2998]\n",
            " [ 1285 57474]]\n",
            "\n",
            "Threshold: 0.9\n",
            "Train Accuracy: 0.972938262145348\n",
            "Validation Accuracy: 0.9705377465254378\n",
            "Test Accuracy: 0.9705824384723467\n",
            "Train Precision: 0.9716815235184035, Recall: 0.9742704519432122, F1: 0.972974265553058\n",
            "Validation Precision: 0.9510344597078779, Recall: 0.9709274551286426, F1: 0.9608780075981427\n",
            "Test Precision: 0.9511601546872916, Recall: 0.9711193178917272, F1: 0.9610361175905887\n",
            "Confusion Matrix (Test):\n",
            "[[95598  2930]\n",
            " [ 1697 57062]]\n"
          ]
        },
        {
          "data": {
            "image/png": "[encoded data removed]",
            "text/plain": [
              "<Figure size 640x480 with 1 Axes>"
            ]
          },
          "metadata": {},
          "output_type": "display_data"
        },
        {
          "data": {
            "image/png": "[encoded data removed]",
            "text/plain": [
              "<Figure size 640x480 with 1 Axes>"
            ]
          },
          "metadata": {},
          "output_type": "display_data"
        },
        {
          "name": "stdout",
          "output_type": "stream",
          "text": [
            "\n",
            "Model evaluation completed.\n"
          ]
        }
      ],
      "source": [
        "# Run the check function\n",
        "model_path = '/content/drive/My Drive/path_to_save/lgb_tabular_model_v2.txt'\n",
        "check_model_usability(model_path, train_data, val_data, test_data)"
      ]
    },
    {
      "cell_type": "markdown",
      "metadata": {
        "id": "U0dDCBMA5mFO"
      },
      "source": [
        "Build Model"
      ]
    },
    {
      "cell_type": "code",
      "execution_count": 14,
      "metadata": {
        "id": "EGTlmtnY4cH2"
      },
      "outputs": [],
      "source": [
        "from tensorflow.keras.layers import Input, Dense, Concatenate\n",
        "from tensorflow.keras.models import Model\n",
        "\n",
        "# Define inputs\n",
        "tabular_input = Input(shape=(16,))\n",
        "additional_input = Input(shape=(2,))\n",
        "\n",
        "# Combine tabular data with additional inputs\n",
        "combined_input = Concatenate()([tabular_input, additional_input])\n",
        "x = Dense(64, activation='relu')(combined_input)\n",
        "x = Dense(32, activation='relu')(x)\n",
        "predictions = Dense(1, activation='softmax')(x)\n",
        "\n",
        "cnn_tabular_model = Model(inputs=[tabular_input, additional_input], outputs=predictions)\n",
        "cnn_tabular_model.compile(optimizer='adam', loss=tf.keras.losses.BinaryCrossentropy(), metrics=['accuracy'])\n"
      ]
    },
    {
      "cell_type": "code",
      "execution_count": 10,
      "metadata": {
        "id": "reiSDJiM2C5q"
      },
      "outputs": [],
      "source": [
        "import tensorflow as tf\n",
        "from tensorflow.keras.layers import Input, Dense, Concatenate, BatchNormalization, ReLU, Add\n",
        "from tensorflow.keras.models import Model\n",
        "\n",
        "# Define a basic ResNet block for tabular data\n",
        "def resnet_block(x, units):\n",
        "    shortcut = x\n",
        "    x = Dense(units)(x)\n",
        "    x = BatchNormalization()(x)\n",
        "    x = ReLU()(x)\n",
        "    x = Dense(units)(x)\n",
        "    x = BatchNormalization()(x)\n",
        "    x = Add()([x, shortcut])\n",
        "    x = ReLU()(x)\n",
        "    return x\n"
      ]
    },
    {
      "cell_type": "code",
      "execution_count": 11,
      "metadata": {
        "id": "psi3py774RkS"
      },
      "outputs": [],
      "source": [
        "\n",
        "# Define inputs\n",
        "tabular_input = Input(shape=(16,))\n",
        "additional_input = Input(shape=(2,))\n",
        "\n",
        "# Combine tabular data with additional inputs\n",
        "combined_input = Concatenate()([tabular_input, additional_input])\n",
        "\n",
        "# Initial dense layer to map input to higher dimensional space\n",
        "x = Dense(64, activation='relu')(combined_input)\n",
        "\n",
        "# Add a series of ResNet blocks\n",
        "for _ in range(3):  # Adjust the number of blocks as needed\n",
        "    x = resnet_block(x, 64)\n",
        "\n",
        "# Add final dense layers for classification\n",
        "x = Dense(32, activation='relu')(x)\n",
        "predictions = Dense(1, activation='sigmoid')(x)  # Use 'sigmoid' for binary classification\n",
        "\n",
        "# Build the model\n",
        "tabular_model = Model(inputs=[tabular_input, additional_input], outputs=predictions)\n"
      ]
    },
    {
      "cell_type": "code",
      "execution_count": 12,
      "metadata": {
        "id": "Ym3vQLxn4URF"
      },
      "outputs": [],
      "source": [
        "# Compile the model\n",
        "tabular_model.compile(optimizer='adam',\n",
        "                      loss=tf.keras.losses.BinaryCrossentropy(),\n",
        "                      metrics=['accuracy'])"
      ]
    },
    {
      "cell_type": "code",
      "execution_count": 13,
      "metadata": {
        "colab": {
          "base_uri": "https://localhost:8080/"
        },
        "id": "ZNCB6UaS4YRU",
        "outputId": "09d12ed8-9213-40c9-975a-c9406b646130"
      },
      "outputs": [
        {
          "name": "stdout",
          "output_type": "stream",
          "text": [
            "Model: \"model\"\n",
            "__________________________________________________________________________________________________\n",
            " Layer (type)                Output Shape                 Param #   Connected to                  \n",
            "==================================================================================================\n",
            " input_1 (InputLayer)        [(None, 16)]                 0         []                            \n",
            "                                                                                                  \n",
            " input_2 (InputLayer)        [(None, 2)]                  0         []                            \n",
            "                                                                                                  \n",
            " concatenate (Concatenate)   (None, 18)                   0         ['input_1[0][0]',             \n",
            "                                                                     'input_2[0][0]']             \n",
            "                                                                                                  \n",
            " dense (Dense)               (None, 64)                   1216      ['concatenate[0][0]']         \n",
            "                                                                                                  \n",
            " dense_1 (Dense)             (None, 64)                   4160      ['dense[0][0]']               \n",
            "                                                                                                  \n",
            " batch_normalization (Batch  (None, 64)                   256       ['dense_1[0][0]']             \n",
            " Normalization)                                                                                   \n",
            "                                                                                                  \n",
            " re_lu (ReLU)                (None, 64)                   0         ['batch_normalization[0][0]'] \n",
            "                                                                                                  \n",
            " dense_2 (Dense)             (None, 64)                   4160      ['re_lu[0][0]']               \n",
            "                                                                                                  \n",
            " batch_normalization_1 (Bat  (None, 64)                   256       ['dense_2[0][0]']             \n",
            " chNormalization)                                                                                 \n",
            "                                                                                                  \n",
            " add (Add)                   (None, 64)                   0         ['batch_normalization_1[0][0]'\n",
            "                                                                    , 'dense[0][0]']              \n",
            "                                                                                                  \n",
            " re_lu_1 (ReLU)              (None, 64)                   0         ['add[0][0]']                 \n",
            "                                                                                                  \n",
            " dense_3 (Dense)             (None, 64)                   4160      ['re_lu_1[0][0]']             \n",
            "                                                                                                  \n",
            " batch_normalization_2 (Bat  (None, 64)                   256       ['dense_3[0][0]']             \n",
            " chNormalization)                                                                                 \n",
            "                                                                                                  \n",
            " re_lu_2 (ReLU)              (None, 64)                   0         ['batch_normalization_2[0][0]'\n",
            "                                                                    ]                             \n",
            "                                                                                                  \n",
            " dense_4 (Dense)             (None, 64)                   4160      ['re_lu_2[0][0]']             \n",
            "                                                                                                  \n",
            " batch_normalization_3 (Bat  (None, 64)                   256       ['dense_4[0][0]']             \n",
            " chNormalization)                                                                                 \n",
            "                                                                                                  \n",
            " add_1 (Add)                 (None, 64)                   0         ['batch_normalization_3[0][0]'\n",
            "                                                                    , 're_lu_1[0][0]']            \n",
            "                                                                                                  \n",
            " re_lu_3 (ReLU)              (None, 64)                   0         ['add_1[0][0]']               \n",
            "                                                                                                  \n",
            " dense_5 (Dense)             (None, 64)                   4160      ['re_lu_3[0][0]']             \n",
            "                                                                                                  \n",
            " batch_normalization_4 (Bat  (None, 64)                   256       ['dense_5[0][0]']             \n",
            " chNormalization)                                                                                 \n",
            "                                                                                                  \n",
            " re_lu_4 (ReLU)              (None, 64)                   0         ['batch_normalization_4[0][0]'\n",
            "                                                                    ]                             \n",
            "                                                                                                  \n",
            " dense_6 (Dense)             (None, 64)                   4160      ['re_lu_4[0][0]']             \n",
            "                                                                                                  \n",
            " batch_normalization_5 (Bat  (None, 64)                   256       ['dense_6[0][0]']             \n",
            " chNormalization)                                                                                 \n",
            "                                                                                                  \n",
            " add_2 (Add)                 (None, 64)                   0         ['batch_normalization_5[0][0]'\n",
            "                                                                    , 're_lu_3[0][0]']            \n",
            "                                                                                                  \n",
            " re_lu_5 (ReLU)              (None, 64)                   0         ['add_2[0][0]']               \n",
            "                                                                                                  \n",
            " dense_7 (Dense)             (None, 32)                   2080      ['re_lu_5[0][0]']             \n",
            "                                                                                                  \n",
            " dense_8 (Dense)             (None, 1)                    33        ['dense_7[0][0]']             \n",
            "                                                                                                  \n",
            "==================================================================================================\n",
            "Total params: 29825 (116.50 KB)\n",
            "Trainable params: 29057 (113.50 KB)\n",
            "Non-trainable params: 768 (3.00 KB)\n",
            "__________________________________________________________________________________________________\n"
          ]
        }
      ],
      "source": [
        "# Summary of the model\n",
        "tabular_model.summary()\n"
      ]
    },
    {
      "cell_type": "markdown",
      "metadata": {
        "id": "Ph1Juuc55u1Z"
      },
      "source": [
        "To make feature computable with Tensor"
      ]
    },
    {
      "cell_type": "code",
      "execution_count": 10,
      "metadata": {
        "id": "kn4WhL6a4iWR"
      },
      "outputs": [],
      "source": [
        "X_train_balanced = X_train_balanced.astype(float)\n",
        "X_val =  X_val.astype(float)\n",
        "X_test =  X_test.astype(float)\n",
        "\n",
        "additional_train  = additional_train.astype(float)\n",
        "additional_val = additional_val.astype(float)\n",
        "additional_test = additional_test.astype(float)"
      ]
    },
    {
      "cell_type": "markdown",
      "metadata": {
        "id": "zUkqdclb52Wb"
      },
      "source": [
        "Combine Data"
      ]
    },
    {
      "cell_type": "code",
      "execution_count": 11,
      "metadata": {
        "id": "WZ7sVHJL4rit"
      },
      "outputs": [],
      "source": [
        "combined_data = np.hstack((X_train_balanced, additional_train))\n",
        "val_data = np.hstack((X_val, additional_val))\n"
      ]
    },
    {
      "cell_type": "code",
      "execution_count": 12,
      "metadata": {
        "id": "unXudajkB5HB"
      },
      "outputs": [],
      "source": [
        "from tensorflow.keras.callbacks import EarlyStopping, ModelCheckpoint\n",
        "\n",
        "# Callbacks for early stopping and saving the best model\n",
        "early_stopping = EarlyStopping(monitor='val_loss', patience=5, restore_best_weights=True)\n",
        "cnn_model_checkpoint = ModelCheckpoint('cnn_best_tabular_model.h5', monitor='val_loss', save_best_only=True)\n"
      ]
    },
    {
      "cell_type": "code",
      "execution_count": 15,
      "metadata": {
        "colab": {
          "base_uri": "https://localhost:8080/"
        },
        "id": "4_bDJ6xlB9wX",
        "outputId": "6bd30473-4110-4a0d-e47f-685172afd2dc"
      },
      "outputs": [
        {
          "name": "stdout",
          "output_type": "stream",
          "text": [
            "Epoch 1/50\n",
            "28713/28713 [==============================] - 44s 2ms/step - loss: 0.1165 - accuracy: 0.5000 - val_loss: 0.1235 - val_accuracy: 0.3726\n",
            "Epoch 2/50\n",
            "  112/28713 [..............................] - ETA: 39s - loss: 0.1304 - accuracy: 0.5084"
          ]
        },
        {
          "name": "stderr",
          "output_type": "stream",
          "text": [
            "/usr/local/lib/python3.10/dist-packages/keras/src/engine/training.py:3103: UserWarning: You are saving your model as an HDF5 file via `model.save()`. This file format is considered legacy. We recommend using instead the native Keras format, e.g. `model.save('my_model.keras')`.\n",
            "  saving_api.save_model(\n"
          ]
        },
        {
          "name": "stdout",
          "output_type": "stream",
          "text": [
            "28713/28713 [==============================] - 45s 2ms/step - loss: 0.1148 - accuracy: 0.5000 - val_loss: 0.1144 - val_accuracy: 0.3726\n",
            "Epoch 3/50\n",
            "28713/28713 [==============================] - 43s 1ms/step - loss: 0.1146 - accuracy: 0.5000 - val_loss: 0.1204 - val_accuracy: 0.3726\n",
            "Epoch 4/50\n",
            "28713/28713 [==============================] - 44s 2ms/step - loss: 0.1144 - accuracy: 0.5000 - val_loss: 0.1167 - val_accuracy: 0.3726\n",
            "Epoch 5/50\n",
            "28713/28713 [==============================] - 42s 1ms/step - loss: 0.1144 - accuracy: 0.5000 - val_loss: 0.1190 - val_accuracy: 0.3726\n",
            "Epoch 6/50\n",
            "28713/28713 [==============================] - 45s 2ms/step - loss: 0.1143 - accuracy: 0.5000 - val_loss: 0.1164 - val_accuracy: 0.3726\n",
            "Epoch 7/50\n",
            "28713/28713 [==============================] - 44s 2ms/step - loss: 0.1143 - accuracy: 0.5000 - val_loss: 0.1170 - val_accuracy: 0.3726\n"
          ]
        },
        {
          "data": {
            "text/plain": [
              "<keras.src.callbacks.History at 0x797858ca8fd0>"
            ]
          },
          "execution_count": 15,
          "metadata": {},
          "output_type": "execute_result"
        }
      ],
      "source": [
        "cnn_tabular_model.fit([combined_data[:, :-2], combined_data[:, -2:]],\n",
        "                  y_train_balanced,\n",
        "                  validation_data=([val_data[:, :-2], val_data[:, -2:]], y_val),\n",
        "                  epochs=50,\n",
        "                  batch_size=32,\n",
        "                  callbacks=[early_stopping, cnn_model_checkpoint])\n"
      ]
    },
    {
      "cell_type": "markdown",
      "metadata": {},
      "source": [
        "Check point for Tabular ResNet50 "
      ]
    },
    {
      "cell_type": "code",
      "execution_count": 17,
      "metadata": {
        "id": "7BvhbCyIEMCs"
      },
      "outputs": [],
      "source": [
        "from tensorflow.keras.callbacks import EarlyStopping, ModelCheckpoint\n",
        "\n",
        "# Callbacks for early stopping and saving the best model\n",
        "early_stopping = EarlyStopping(monitor='val_loss', patience=5, restore_best_weights=True)\n",
        "model_checkpoint = ModelCheckpoint('ResNet50_best_tabular_model.h5', monitor='val_loss', save_best_only=True)\n"
      ]
    },
    {
      "cell_type": "markdown",
      "metadata": {
        "id": "swFErG0W57aX"
      },
      "source": [
        "Train Tabular Model"
      ]
    },
    {
      "cell_type": "code",
      "execution_count": 18,
      "metadata": {
        "colab": {
          "base_uri": "https://localhost:8080/"
        },
        "id": "xh-c5Eor5_BY",
        "outputId": "3dd47427-53d8-4d44-f533-968913232256"
      },
      "outputs": [
        {
          "name": "stdout",
          "output_type": "stream",
          "text": [
            "Epoch 1/50\n",
            "28713/28713 [==============================] - 88s 3ms/step - loss: 0.1166 - accuracy: 0.9745 - val_loss: 0.1144 - val_accuracy: 0.9734\n",
            "Epoch 2/50\n",
            "   35/28713 [..............................] - ETA: 1:28 - loss: 0.0990 - accuracy: 0.9795"
          ]
        },
        {
          "name": "stderr",
          "output_type": "stream",
          "text": [
            "/usr/local/lib/python3.10/dist-packages/keras/src/engine/training.py:3103: UserWarning: You are saving your model as an HDF5 file via `model.save()`. This file format is considered legacy. We recommend using instead the native Keras format, e.g. `model.save('my_model.keras')`.\n",
            "  saving_api.save_model(\n"
          ]
        },
        {
          "name": "stdout",
          "output_type": "stream",
          "text": [
            "28713/28713 [==============================] - 84s 3ms/step - loss: 0.1147 - accuracy: 0.9747 - val_loss: 0.1175 - val_accuracy: 0.9734\n",
            "Epoch 3/50\n",
            "28713/28713 [==============================] - 85s 3ms/step - loss: 0.1145 - accuracy: 0.9747 - val_loss: 0.1168 - val_accuracy: 0.9734\n",
            "Epoch 4/50\n",
            "28713/28713 [==============================] - 83s 3ms/step - loss: 0.1144 - accuracy: 0.9747 - val_loss: 0.1180 - val_accuracy: 0.9734\n",
            "Epoch 5/50\n",
            "28713/28713 [==============================] - 85s 3ms/step - loss: 0.1143 - accuracy: 0.9747 - val_loss: 0.1179 - val_accuracy: 0.9734\n",
            "Epoch 6/50\n",
            "28713/28713 [==============================] - 86s 3ms/step - loss: 0.1143 - accuracy: 0.9747 - val_loss: 0.1148 - val_accuracy: 0.9734\n"
          ]
        },
        {
          "data": {
            "text/plain": [
              "<keras.src.callbacks.History at 0x7e55d867d6f0>"
            ]
          },
          "execution_count": 18,
          "metadata": {},
          "output_type": "execute_result"
        }
      ],
      "source": [
        "tabular_model.fit([combined_data[:, :-2], combined_data[:, -2:]],\n",
        "                  y_train_balanced,\n",
        "                  validation_data=([val_data[:, :-2], val_data[:, -2:]], y_val),\n",
        "                  epochs=50,\n",
        "                  batch_size=32,\n",
        "                  callbacks=[early_stopping, model_checkpoint])\n"
      ]
    },
    {
      "cell_type": "markdown",
      "metadata": {
        "id": "yNyxTnvY6Ddy"
      },
      "source": [
        "Evaluate Model"
      ]
    },
    {
      "cell_type": "code",
      "execution_count": 17,
      "metadata": {
        "id": "bzfFWjmZHiav"
      },
      "outputs": [],
      "source": [
        "test_data = np.hstack((X_test, additional_test))"
      ]
    },
    {
      "cell_type": "code",
      "execution_count": 20,
      "metadata": {
        "colab": {
          "base_uri": "https://localhost:8080/"
        },
        "id": "PiVITqNQ6Sr1",
        "outputId": "5409daa8-d332-4073-d3f9-ce1c4d869301"
      },
      "outputs": [
        {
          "name": "stdout",
          "output_type": "stream",
          "text": [
            "4916/4916 [==============================] - 7s 1ms/step - loss: 0.1146 - accuracy: 0.9734\n",
            "Test accuracy: 97.34%\n"
          ]
        }
      ],
      "source": [
        "# Evaluate the model on the test set\n",
        "test_loss, test_accuracy = tabular_model.evaluate([test_data[:, :-2], test_data[:, -2:]], y_test)\n",
        "print(f'Test accuracy: {test_accuracy * 100:.2f}%')"
      ]
    },
    {
      "cell_type": "markdown",
      "metadata": {
        "id": "qtFNv4xe6WKs"
      },
      "source": [
        "Save Model"
      ]
    },
    {
      "cell_type": "code",
      "execution_count": 21,
      "metadata": {
        "colab": {
          "base_uri": "https://localhost:8080/"
        },
        "id": "zJ6xM5iV6Uou",
        "outputId": "eb106be4-b7a6-43dd-a443-22ada9e8e2f0"
      },
      "outputs": [
        {
          "name": "stderr",
          "output_type": "stream",
          "text": [
            "/usr/local/lib/python3.10/dist-packages/keras/src/engine/training.py:3103: UserWarning: You are saving your model as an HDF5 file via `model.save()`. This file format is considered legacy. We recommend using instead the native Keras format, e.g. `model.save('my_model.keras')`.\n",
            "  saving_api.save_model(\n"
          ]
        }
      ],
      "source": [
        "tabular_model.save('/content/drive/My Drive/path_to_save/ResNet50_tabular_model_v4.h5')"
      ]
    },
    {
      "cell_type": "code",
      "execution_count": 18,
      "metadata": {
        "colab": {
          "base_uri": "https://localhost:8080/"
        },
        "id": "i13Yw8DiCYRO",
        "outputId": "9a049a98-af5e-4293-f3e1-26bc52cd34b3"
      },
      "outputs": [
        {
          "name": "stdout",
          "output_type": "stream",
          "text": [
            "4916/4916 [==============================] - 5s 1ms/step - loss: 0.1146 - accuracy: 0.3736\n",
            "CNN Test accuracy: 37.36%\n"
          ]
        }
      ],
      "source": [
        "# Evaluate the cnn model on the test set\n",
        "test_loss, test_accuracy = cnn_tabular_model.evaluate([test_data[:, :-2], test_data[:, -2:]], y_test)\n",
        "print(f'CNN Test accuracy: {test_accuracy * 100:.2f}%')"
      ]
    },
    {
      "cell_type": "code",
      "execution_count": 20,
      "metadata": {
        "colab": {
          "base_uri": "https://localhost:8080/"
        },
        "id": "MURUDTSnH2Us",
        "outputId": "499af273-55ac-431b-a9b3-a5e345e7f0db"
      },
      "outputs": [
        {
          "name": "stderr",
          "output_type": "stream",
          "text": [
            "/usr/local/lib/python3.10/dist-packages/keras/src/engine/training.py:3103: UserWarning: You are saving your model as an HDF5 file via `model.save()`. This file format is considered legacy. We recommend using instead the native Keras format, e.g. `model.save('my_model.keras')`.\n",
            "  saving_api.save_model(\n"
          ]
        }
      ],
      "source": [
        "cnn_tabular_model.save('/content/drive/My Drive/path_to_save/CNN_tabular_model_v4.h5')"
      ]
    }
  ],
  "metadata": {
    "accelerator": "TPU",
    "colab": {
      "gpuType": "V28",
      "provenance": []
    },
    "kernelspec": {
      "display_name": "Python 3",
      "name": "python3"
    },
    "language_info": {
      "name": "python"
    }
  },
  "nbformat": 4,
  "nbformat_minor": 0
}
